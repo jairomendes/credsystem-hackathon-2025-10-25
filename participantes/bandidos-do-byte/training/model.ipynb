{
 "cells": [
  {
   "cell_type": "markdown",
   "id": "bac4928e",
   "metadata": {},
   "source": [
    "# Modelo de Classificação de Intenções com CNN e LSTM\n",
    "\n",
    "Este notebook implementa uma rede neural para classificar a intenção de um usuário (`intent`) em uma categoria de serviço (`service_name`) com base em uma frase de entrada.\n",
    "\n",
    "A arquitetura do modelo combina:\n",
    "- **Camadas Convolucionais (Conv1D)**: Para extrair características locais e n-gramas do texto.\n",
    "- **Camadas Recorrentes (LSTM)**: Para entender o contexto e as dependências sequenciais nas características extraídas."
   ]
  },
  {
   "cell_type": "markdown",
   "id": "8633097e",
   "metadata": {},
   "source": [
    "### 1. Importação das Bibliotecas"
   ]
  },
  {
   "cell_type": "code",
   "execution_count": 1,
   "id": "5fc3e285",
   "metadata": {},
   "outputs": [],
   "source": [
    "import pandas as pd\n",
    "import numpy as np\n",
    "import tensorflow as tf\n",
    "from tensorflow.keras.models import Sequential\n",
    "from tensorflow.keras.layers import Embedding, Conv1D, MaxPooling1D, LSTM, Dense, Dropout\n",
    "from tensorflow.keras.preprocessing.text import Tokenizer\n",
    "from tensorflow.keras.preprocessing.sequence import pad_sequences\n",
    "from sklearn.model_selection import train_test_split\n",
    "from sklearn.preprocessing import LabelEncoder"
   ]
  },
  {
   "cell_type": "markdown",
   "id": "7446fd4e",
   "metadata": {},
   "source": [
    "### 2. Carregamento e Pré-processamento dos Dados\n",
    "\n",
    "Carregamos o arquivo CSV, definimos o delimitador e separamos as colunas de entrada (`intent`) e de alvo (`service_name`)."
   ]
  },
  {
   "cell_type": "code",
   "execution_count": 2,
   "id": "ca32ebb6",
   "metadata": {},
   "outputs": [
    {
     "data": {
      "text/html": [
       "<div>\n",
       "<style scoped>\n",
       "    .dataframe tbody tr th:only-of-type {\n",
       "        vertical-align: middle;\n",
       "    }\n",
       "\n",
       "    .dataframe tbody tr th {\n",
       "        vertical-align: top;\n",
       "    }\n",
       "\n",
       "    .dataframe thead th {\n",
       "        text-align: right;\n",
       "    }\n",
       "</style>\n",
       "<table border=\"1\" class=\"dataframe\">\n",
       "  <thead>\n",
       "    <tr style=\"text-align: right;\">\n",
       "      <th></th>\n",
       "      <th>service_id</th>\n",
       "      <th>service_name</th>\n",
       "      <th>intent</th>\n",
       "    </tr>\n",
       "  </thead>\n",
       "  <tbody>\n",
       "    <tr>\n",
       "      <th>0</th>\n",
       "      <td>1</td>\n",
       "      <td>Consulta Limite / Vencimento do cartão / Melho...</td>\n",
       "      <td>Quanto tem disponível para usar</td>\n",
       "    </tr>\n",
       "    <tr>\n",
       "      <th>1</th>\n",
       "      <td>1</td>\n",
       "      <td>Consulta Limite / Vencimento do cartão / Melho...</td>\n",
       "      <td>quando fecha minha fatura</td>\n",
       "    </tr>\n",
       "    <tr>\n",
       "      <th>2</th>\n",
       "      <td>1</td>\n",
       "      <td>Consulta Limite / Vencimento do cartão / Melho...</td>\n",
       "      <td>Quando vence meu cartão</td>\n",
       "    </tr>\n",
       "    <tr>\n",
       "      <th>3</th>\n",
       "      <td>1</td>\n",
       "      <td>Consulta Limite / Vencimento do cartão / Melho...</td>\n",
       "      <td>quando posso comprar</td>\n",
       "    </tr>\n",
       "    <tr>\n",
       "      <th>4</th>\n",
       "      <td>1</td>\n",
       "      <td>Consulta Limite / Vencimento do cartão / Melho...</td>\n",
       "      <td>vencimento da fatura</td>\n",
       "    </tr>\n",
       "  </tbody>\n",
       "</table>\n",
       "</div>"
      ],
      "text/plain": [
       "   service_id                                       service_name  \\\n",
       "0           1  Consulta Limite / Vencimento do cartão / Melho...   \n",
       "1           1  Consulta Limite / Vencimento do cartão / Melho...   \n",
       "2           1  Consulta Limite / Vencimento do cartão / Melho...   \n",
       "3           1  Consulta Limite / Vencimento do cartão / Melho...   \n",
       "4           1  Consulta Limite / Vencimento do cartão / Melho...   \n",
       "\n",
       "                            intent  \n",
       "0  Quanto tem disponível para usar  \n",
       "1        quando fecha minha fatura  \n",
       "2          Quando vence meu cartão  \n",
       "3             quando posso comprar  \n",
       "4             vencimento da fatura  "
      ]
     },
     "execution_count": 2,
     "metadata": {},
     "output_type": "execute_result"
    }
   ],
   "source": [
    "# O caminho para o CSV é relativo à localização deste notebook\n",
    "# csv_path = '../../../assets/intents_pre_loaded.csv'\n",
    "csv_path = 'intents_pre_loaded.csv'\n",
    "\n",
    "df = pd.read_csv(csv_path, delimiter=';')\n",
    "\n",
    "# Remover linhas com valores ausentes\n",
    "df.dropna(subset=['intent', 'service_name'], inplace=True)\n",
    "\n",
    "# Definir textos (X) e rótulos (y)\n",
    "intents = df['intent'].values\n",
    "service_names = df['service_name'].values\n",
    "\n",
    "df.head()"
   ]
  },
  {
   "cell_type": "markdown",
   "id": "482b0bed",
   "metadata": {},
   "source": [
    "### 3. Codificação dos Rótulos (Labels)\n",
    "\n",
    "As redes neurais trabalham com números. Usamos o `LabelEncoder` para converter os nomes dos serviços (texto) em números inteiros."
   ]
  },
  {
   "cell_type": "code",
   "execution_count": 3,
   "id": "7e4c020d",
   "metadata": {},
   "outputs": [
    {
     "name": "stdout",
     "output_type": "stream",
     "text": [
      "Número de classes de serviço: 16\n"
     ]
    }
   ],
   "source": [
    "label_encoder = LabelEncoder()\n",
    "integer_labels = label_encoder.fit_transform(service_names)\n",
    "num_classes = len(np.unique(integer_labels))\n",
    "\n",
    "print(f\"Número de classes de serviço: {num_classes}\")"
   ]
  },
  {
   "cell_type": "markdown",
   "id": "b1622ba3",
   "metadata": {},
   "source": [
    "### 4. Tokenização e Padding\n",
    "\n",
    "O texto é convertido em sequências de números (`Tokenização`) e, em seguida, todas as sequências são padronizadas para ter o mesmo comprimento (`Padding`)."
   ]
  },
  {
   "cell_type": "code",
   "execution_count": 4,
   "id": "27b7fdca",
   "metadata": {},
   "outputs": [],
   "source": [
    "# Configurações\n",
    "vocab_size = 1000  # Tamanho máximo do vocabulário\n",
    "max_length = 20    # Comprimento máximo das sequências\n",
    "embedding_dim = 64 # Dimensão dos vetores de embedding\n",
    "\n",
    "# Criar e treinar o tokenizer\n",
    "tokenizer = Tokenizer(num_words=vocab_size, oov_token=\"<unk>\")\n",
    "tokenizer.fit_on_texts(intents)\n",
    "\n",
    "# Converter textos para sequências de inteiros\n",
    "sequences = tokenizer.texts_to_sequences(intents)\n",
    "\n",
    "# Padronizar o comprimento das sequências\n",
    "padded_sequences = pad_sequences(sequences, maxlen=max_length, padding='post', truncating='post')"
   ]
  },
  {
   "cell_type": "markdown",
   "id": "9d1d6ee2",
   "metadata": {},
   "source": [
    "### 5. Divisão em Dados de Treino e Teste"
   ]
  },
  {
   "cell_type": "code",
   "execution_count": 5,
   "id": "8c0af513",
   "metadata": {},
   "outputs": [],
   "source": [
    "X_train, X_test, y_train, y_test = train_test_split(\n",
    "    padded_sequences,\n",
    "    integer_labels,\n",
    "    test_size=0.2,\n",
    "    random_state=42\n",
    ")"
   ]
  },
  {
   "cell_type": "markdown",
   "id": "fa7491dd",
   "metadata": {},
   "source": [
    "### 6. Construção do Modelo (CNN + LSTM)"
   ]
  },
  {
   "cell_type": "code",
   "execution_count": 6,
   "id": "69dabc61",
   "metadata": {},
   "outputs": [
    {
     "name": "stderr",
     "output_type": "stream",
     "text": [
      "d:\\fcf\\code\\credsystem-hackathon-2025-10-25\\participantes\\bandidos-do-byte\\venv\\Lib\\site-packages\\keras\\src\\layers\\core\\embedding.py:97: UserWarning: Argument `input_length` is deprecated. Just remove it.\n",
      "  warnings.warn(\n"
     ]
    },
    {
     "data": {
      "text/html": [
       "<pre style=\"white-space:pre;overflow-x:auto;line-height:normal;font-family:Menlo,'DejaVu Sans Mono',consolas,'Courier New',monospace\"><span style=\"font-weight: bold\">Model: \"sequential\"</span>\n",
       "</pre>\n"
      ],
      "text/plain": [
       "\u001b[1mModel: \"sequential\"\u001b[0m\n"
      ]
     },
     "metadata": {},
     "output_type": "display_data"
    },
    {
     "data": {
      "text/html": [
       "<pre style=\"white-space:pre;overflow-x:auto;line-height:normal;font-family:Menlo,'DejaVu Sans Mono',consolas,'Courier New',monospace\">┏━━━━━━━━━━━━━━━━━━━━━━━━━━━━━━━━━┳━━━━━━━━━━━━━━━━━━━━━━━━┳━━━━━━━━━━━━━━━┓\n",
       "┃<span style=\"font-weight: bold\"> Layer (type)                    </span>┃<span style=\"font-weight: bold\"> Output Shape           </span>┃<span style=\"font-weight: bold\">       Param # </span>┃\n",
       "┡━━━━━━━━━━━━━━━━━━━━━━━━━━━━━━━━━╇━━━━━━━━━━━━━━━━━━━━━━━━╇━━━━━━━━━━━━━━━┩\n",
       "│ embedding (<span style=\"color: #0087ff; text-decoration-color: #0087ff\">Embedding</span>)           │ ?                      │   <span style=\"color: #00af00; text-decoration-color: #00af00\">0</span> (unbuilt) │\n",
       "├─────────────────────────────────┼────────────────────────┼───────────────┤\n",
       "│ conv1d (<span style=\"color: #0087ff; text-decoration-color: #0087ff\">Conv1D</span>)                 │ ?                      │   <span style=\"color: #00af00; text-decoration-color: #00af00\">0</span> (unbuilt) │\n",
       "├─────────────────────────────────┼────────────────────────┼───────────────┤\n",
       "│ max_pooling1d (<span style=\"color: #0087ff; text-decoration-color: #0087ff\">MaxPooling1D</span>)    │ ?                      │             <span style=\"color: #00af00; text-decoration-color: #00af00\">0</span> │\n",
       "├─────────────────────────────────┼────────────────────────┼───────────────┤\n",
       "│ dropout (<span style=\"color: #0087ff; text-decoration-color: #0087ff\">Dropout</span>)               │ ?                      │             <span style=\"color: #00af00; text-decoration-color: #00af00\">0</span> │\n",
       "├─────────────────────────────────┼────────────────────────┼───────────────┤\n",
       "│ lstm (<span style=\"color: #0087ff; text-decoration-color: #0087ff\">LSTM</span>)                     │ ?                      │   <span style=\"color: #00af00; text-decoration-color: #00af00\">0</span> (unbuilt) │\n",
       "├─────────────────────────────────┼────────────────────────┼───────────────┤\n",
       "│ dropout_1 (<span style=\"color: #0087ff; text-decoration-color: #0087ff\">Dropout</span>)             │ ?                      │             <span style=\"color: #00af00; text-decoration-color: #00af00\">0</span> │\n",
       "├─────────────────────────────────┼────────────────────────┼───────────────┤\n",
       "│ dense (<span style=\"color: #0087ff; text-decoration-color: #0087ff\">Dense</span>)                   │ ?                      │   <span style=\"color: #00af00; text-decoration-color: #00af00\">0</span> (unbuilt) │\n",
       "└─────────────────────────────────┴────────────────────────┴───────────────┘\n",
       "</pre>\n"
      ],
      "text/plain": [
       "┏━━━━━━━━━━━━━━━━━━━━━━━━━━━━━━━━━┳━━━━━━━━━━━━━━━━━━━━━━━━┳━━━━━━━━━━━━━━━┓\n",
       "┃\u001b[1m \u001b[0m\u001b[1mLayer (type)                   \u001b[0m\u001b[1m \u001b[0m┃\u001b[1m \u001b[0m\u001b[1mOutput Shape          \u001b[0m\u001b[1m \u001b[0m┃\u001b[1m \u001b[0m\u001b[1m      Param #\u001b[0m\u001b[1m \u001b[0m┃\n",
       "┡━━━━━━━━━━━━━━━━━━━━━━━━━━━━━━━━━╇━━━━━━━━━━━━━━━━━━━━━━━━╇━━━━━━━━━━━━━━━┩\n",
       "│ embedding (\u001b[38;5;33mEmbedding\u001b[0m)           │ ?                      │   \u001b[38;5;34m0\u001b[0m (unbuilt) │\n",
       "├─────────────────────────────────┼────────────────────────┼───────────────┤\n",
       "│ conv1d (\u001b[38;5;33mConv1D\u001b[0m)                 │ ?                      │   \u001b[38;5;34m0\u001b[0m (unbuilt) │\n",
       "├─────────────────────────────────┼────────────────────────┼───────────────┤\n",
       "│ max_pooling1d (\u001b[38;5;33mMaxPooling1D\u001b[0m)    │ ?                      │             \u001b[38;5;34m0\u001b[0m │\n",
       "├─────────────────────────────────┼────────────────────────┼───────────────┤\n",
       "│ dropout (\u001b[38;5;33mDropout\u001b[0m)               │ ?                      │             \u001b[38;5;34m0\u001b[0m │\n",
       "├─────────────────────────────────┼────────────────────────┼───────────────┤\n",
       "│ lstm (\u001b[38;5;33mLSTM\u001b[0m)                     │ ?                      │   \u001b[38;5;34m0\u001b[0m (unbuilt) │\n",
       "├─────────────────────────────────┼────────────────────────┼───────────────┤\n",
       "│ dropout_1 (\u001b[38;5;33mDropout\u001b[0m)             │ ?                      │             \u001b[38;5;34m0\u001b[0m │\n",
       "├─────────────────────────────────┼────────────────────────┼───────────────┤\n",
       "│ dense (\u001b[38;5;33mDense\u001b[0m)                   │ ?                      │   \u001b[38;5;34m0\u001b[0m (unbuilt) │\n",
       "└─────────────────────────────────┴────────────────────────┴───────────────┘\n"
      ]
     },
     "metadata": {},
     "output_type": "display_data"
    },
    {
     "data": {
      "text/html": [
       "<pre style=\"white-space:pre;overflow-x:auto;line-height:normal;font-family:Menlo,'DejaVu Sans Mono',consolas,'Courier New',monospace\"><span style=\"font-weight: bold\"> Total params: </span><span style=\"color: #00af00; text-decoration-color: #00af00\">0</span> (0.00 B)\n",
       "</pre>\n"
      ],
      "text/plain": [
       "\u001b[1m Total params: \u001b[0m\u001b[38;5;34m0\u001b[0m (0.00 B)\n"
      ]
     },
     "metadata": {},
     "output_type": "display_data"
    },
    {
     "data": {
      "text/html": [
       "<pre style=\"white-space:pre;overflow-x:auto;line-height:normal;font-family:Menlo,'DejaVu Sans Mono',consolas,'Courier New',monospace\"><span style=\"font-weight: bold\"> Trainable params: </span><span style=\"color: #00af00; text-decoration-color: #00af00\">0</span> (0.00 B)\n",
       "</pre>\n"
      ],
      "text/plain": [
       "\u001b[1m Trainable params: \u001b[0m\u001b[38;5;34m0\u001b[0m (0.00 B)\n"
      ]
     },
     "metadata": {},
     "output_type": "display_data"
    },
    {
     "data": {
      "text/html": [
       "<pre style=\"white-space:pre;overflow-x:auto;line-height:normal;font-family:Menlo,'DejaVu Sans Mono',consolas,'Courier New',monospace\"><span style=\"font-weight: bold\"> Non-trainable params: </span><span style=\"color: #00af00; text-decoration-color: #00af00\">0</span> (0.00 B)\n",
       "</pre>\n"
      ],
      "text/plain": [
       "\u001b[1m Non-trainable params: \u001b[0m\u001b[38;5;34m0\u001b[0m (0.00 B)\n"
      ]
     },
     "metadata": {},
     "output_type": "display_data"
    }
   ],
   "source": [
    "model = Sequential([\n",
    "    # Camada de Embedding: Transforma índices de palavras em vetores densos\n",
    "    Embedding(input_dim=vocab_size, output_dim=embedding_dim, input_length=max_length),\n",
    "\n",
    "    # Camada Convolucional (CNN): Extrai características locais\n",
    "    Conv1D(filters=128, kernel_size=5, activation='relu'),\n",
    "    MaxPooling1D(pool_size=2),\n",
    "    Dropout(0.5),\n",
    "\n",
    "    # Camada Recorrente (LSTM): Aprende padrões sequenciais\n",
    "    LSTM(64),\n",
    "    Dropout(0.5),\n",
    "\n",
    "    # Camada de Saída: Classifica nas categorias de serviço\n",
    "    Dense(num_classes, activation='softmax')\n",
    "])\n",
    "\n",
    "# Compilar o modelo\n",
    "model.compile(\n",
    "    optimizer='adam',\n",
    "    loss='sparse_categorical_crossentropy', # Usar para rótulos inteiros\n",
    "    metrics=['accuracy']\n",
    ")\n",
    "\n",
    "model.summary()"
   ]
  },
  {
   "cell_type": "markdown",
   "id": "e6a1cf9e",
   "metadata": {},
   "source": [
    "### 7. Treinamento do Modelo"
   ]
  },
  {
   "cell_type": "code",
   "execution_count": 7,
   "id": "1cb189aa",
   "metadata": {},
   "outputs": [
    {
     "name": "stdout",
     "output_type": "stream",
     "text": [
      "Epoch 1/30\n",
      "5/5 - 2s - 404ms/step - accuracy: 0.0135 - loss: 2.7800 - val_accuracy: 0.0526 - val_loss: 2.7770\n",
      "Epoch 2/30\n",
      "5/5 - 0s - 31ms/step - accuracy: 0.0405 - loss: 2.7748 - val_accuracy: 0.0526 - val_loss: 2.7792\n",
      "Epoch 3/30\n",
      "5/5 - 0s - 21ms/step - accuracy: 0.0946 - loss: 2.7669 - val_accuracy: 0.0526 - val_loss: 2.7835\n",
      "Epoch 4/30\n",
      "5/5 - 0s - 23ms/step - accuracy: 0.0541 - loss: 2.7715 - val_accuracy: 0.0000e+00 - val_loss: 2.7874\n",
      "Epoch 5/30\n",
      "5/5 - 0s - 19ms/step - accuracy: 0.0405 - loss: 2.7700 - val_accuracy: 0.0000e+00 - val_loss: 2.7912\n",
      "Epoch 6/30\n",
      "5/5 - 0s - 21ms/step - accuracy: 0.0405 - loss: 2.7753 - val_accuracy: 0.0526 - val_loss: 2.7924\n",
      "Epoch 7/30\n",
      "5/5 - 0s - 19ms/step - accuracy: 0.0405 - loss: 2.7595 - val_accuracy: 0.0526 - val_loss: 2.7957\n",
      "Epoch 8/30\n",
      "5/5 - 0s - 19ms/step - accuracy: 0.0405 - loss: 2.7646 - val_accuracy: 0.0526 - val_loss: 2.7977\n",
      "Epoch 9/30\n",
      "5/5 - 0s - 21ms/step - accuracy: 0.1216 - loss: 2.7535 - val_accuracy: 0.0526 - val_loss: 2.8030\n",
      "Epoch 10/30\n",
      "5/5 - 0s - 22ms/step - accuracy: 0.1081 - loss: 2.7658 - val_accuracy: 0.0526 - val_loss: 2.8094\n",
      "Epoch 11/30\n",
      "5/5 - 0s - 19ms/step - accuracy: 0.0811 - loss: 2.7593 - val_accuracy: 0.0526 - val_loss: 2.8177\n",
      "Epoch 12/30\n",
      "5/5 - 0s - 22ms/step - accuracy: 0.0541 - loss: 2.7751 - val_accuracy: 0.0526 - val_loss: 2.8166\n",
      "Epoch 13/30\n",
      "5/5 - 0s - 21ms/step - accuracy: 0.0811 - loss: 2.7426 - val_accuracy: 0.0526 - val_loss: 2.8115\n",
      "Epoch 14/30\n",
      "5/5 - 0s - 23ms/step - accuracy: 0.0946 - loss: 2.7408 - val_accuracy: 0.0526 - val_loss: 2.8133\n",
      "Epoch 15/30\n",
      "5/5 - 0s - 21ms/step - accuracy: 0.1351 - loss: 2.7266 - val_accuracy: 0.1053 - val_loss: 2.8128\n",
      "Epoch 16/30\n",
      "5/5 - 0s - 21ms/step - accuracy: 0.1216 - loss: 2.7162 - val_accuracy: 0.2105 - val_loss: 2.8017\n",
      "Epoch 17/30\n",
      "5/5 - 0s - 24ms/step - accuracy: 0.1486 - loss: 2.6416 - val_accuracy: 0.1579 - val_loss: 2.7908\n",
      "Epoch 18/30\n",
      "5/5 - 0s - 23ms/step - accuracy: 0.1351 - loss: 2.5660 - val_accuracy: 0.1579 - val_loss: 2.7725\n",
      "Epoch 19/30\n",
      "5/5 - 0s - 23ms/step - accuracy: 0.1622 - loss: 2.4861 - val_accuracy: 0.1579 - val_loss: 2.7404\n",
      "Epoch 20/30\n",
      "5/5 - 0s - 21ms/step - accuracy: 0.1081 - loss: 2.4745 - val_accuracy: 0.1053 - val_loss: 2.7138\n",
      "Epoch 21/30\n",
      "5/5 - 0s - 18ms/step - accuracy: 0.1622 - loss: 2.4056 - val_accuracy: 0.1579 - val_loss: 2.7635\n",
      "Epoch 22/30\n",
      "5/5 - 0s - 19ms/step - accuracy: 0.1351 - loss: 2.3333 - val_accuracy: 0.0526 - val_loss: 2.7310\n",
      "Epoch 23/30\n",
      "5/5 - 0s - 20ms/step - accuracy: 0.1216 - loss: 2.2966 - val_accuracy: 0.1053 - val_loss: 2.7240\n",
      "Epoch 24/30\n",
      "5/5 - 0s - 19ms/step - accuracy: 0.2162 - loss: 2.2001 - val_accuracy: 0.1053 - val_loss: 2.8149\n",
      "Epoch 25/30\n",
      "5/5 - 0s - 19ms/step - accuracy: 0.2703 - loss: 2.0535 - val_accuracy: 0.1053 - val_loss: 2.7021\n",
      "Epoch 26/30\n",
      "5/5 - 0s - 19ms/step - accuracy: 0.2297 - loss: 1.9690 - val_accuracy: 0.1579 - val_loss: 2.6352\n",
      "Epoch 27/30\n",
      "5/5 - 0s - 20ms/step - accuracy: 0.3919 - loss: 1.7401 - val_accuracy: 0.1579 - val_loss: 2.7143\n",
      "Epoch 28/30\n",
      "5/5 - 0s - 23ms/step - accuracy: 0.3378 - loss: 1.7104 - val_accuracy: 0.1579 - val_loss: 2.6760\n",
      "Epoch 29/30\n",
      "5/5 - 0s - 19ms/step - accuracy: 0.4324 - loss: 1.6486 - val_accuracy: 0.2105 - val_loss: 2.4996\n",
      "Epoch 30/30\n",
      "5/5 - 0s - 16ms/step - accuracy: 0.4459 - loss: 1.5245 - val_accuracy: 0.2105 - val_loss: 2.8464\n"
     ]
    }
   ],
   "source": [
    "history = model.fit(\n",
    "    X_train,\n",
    "    y_train,\n",
    "    epochs=30,\n",
    "    validation_data=(X_test, y_test),\n",
    "    batch_size=16,\n",
    "    verbose=2\n",
    ")"
   ]
  },
  {
   "cell_type": "markdown",
   "id": "8846be5c",
   "metadata": {},
   "source": [
    "### 8. Avaliação do Modelo"
   ]
  },
  {
   "cell_type": "code",
   "execution_count": 8,
   "id": "dc2770dc",
   "metadata": {},
   "outputs": [
    {
     "name": "stdout",
     "output_type": "stream",
     "text": [
      "\n",
      "Acurácia no conjunto de teste: 0.2105\n"
     ]
    }
   ],
   "source": [
    "loss, accuracy = model.evaluate(X_test, y_test, verbose=0)\n",
    "print(f\"\\nAcurácia no conjunto de teste: {accuracy:.4f}\")"
   ]
  },
  {
   "cell_type": "code",
   "execution_count": null,
   "id": "6235ed18",
   "metadata": {},
   "outputs": [],
   "source": [
    "# plot a true matrix\n",
    "import matplotlib.pyplot as plt\n",
    "from sklearn.metrics import confusion_matrix\n",
    "y_pred = np.argmax(model.predict(X_test), axis=-1)\n",
    "cm = confusion_matrix(y_test, y_pred)\n",
    "\n",
    "plt.figure(figsize=(10, 7))\n",
    "plt.imshow(cm, interpolation='nearest', cmap=plt.cm.Blues)\n",
    "plt.title('Confusion Matrix')\n",
    "plt.colorbar()\n",
    "tick_marks = np.arange(len(class_names))\n",
    "plt.xticks(tick_marks, class_names, rotation=45)\n",
    "plt.yticks(tick_marks, class_names)\n",
    "\n",
    "thresh = cm.max() / 2.\n",
    "for i, j in itertools.product(range(cm.shape[0]), range(cm.shape[1])):\n",
    "    plt.text(j, i, cm[i, j],\n",
    "             horizontalalignment=\"center\",\n",
    "             color=\"white\" if cm[i, j] > thresh else \"black\")\n",
    "\n",
    "plt.tight_layout()\n",
    "plt.ylabel('True label')\n",
    "plt.xlabel('Predicted label')\n",
    "plt.show()"
   ]
  },
  {
   "cell_type": "code",
   "execution_count": 11,
   "id": "18d6fe53",
   "metadata": {},
   "outputs": [
    {
     "ename": "NameError",
     "evalue": "name 'predictions' is not defined",
     "output_type": "error",
     "traceback": [
      "\u001b[31m---------------------------------------------------------------------------\u001b[39m",
      "\u001b[31mNameError\u001b[39m                                 Traceback (most recent call last)",
      "\u001b[36mCell\u001b[39m\u001b[36m \u001b[39m\u001b[32mIn[11]\u001b[39m\u001b[32m, line 6\u001b[39m\n\u001b[32m      4\u001b[39m plt.figure(figsize=(\u001b[32m10\u001b[39m, \u001b[32m5\u001b[39m))\n\u001b[32m      5\u001b[39m plt.plot(y_test, label=\u001b[33m'\u001b[39m\u001b[33mTrue Values\u001b[39m\u001b[33m'\u001b[39m)\n\u001b[32m----> \u001b[39m\u001b[32m6\u001b[39m plt.plot(\u001b[43mpredictions\u001b[49m, label=\u001b[33m'\u001b[39m\u001b[33mPredictions\u001b[39m\u001b[33m'\u001b[39m)\n\u001b[32m      7\u001b[39m plt.title(\u001b[33m'\u001b[39m\u001b[33mTrue vs Predicted Values\u001b[39m\u001b[33m'\u001b[39m)\n\u001b[32m      8\u001b[39m plt.xlabel(\u001b[33m'\u001b[39m\u001b[33mSamples\u001b[39m\u001b[33m'\u001b[39m)\n",
      "\u001b[31mNameError\u001b[39m: name 'predictions' is not defined"
     ]
    },
    {
     "data": {
      "image/png": "[encoded data removed]",
      "text/plain": [
       "<Figure size 1000x500 with 1 Axes>"
      ]
     },
     "metadata": {},
     "output_type": "display_data"
    }
   ],
   "source": [
    "# plot a true vs predicted graph\n",
    "import matplotlib.pyplot as plt\n",
    "\n",
    "plt.figure(figsize=(10, 5))\n",
    "plt.plot(y_test, label='True Values')\n",
    "plt.plot(predictions, label='Predictions')\n",
    "plt.title('True vs Predicted Values')\n",
    "plt.xlabel('Samples')\n",
    "plt.ylabel('Values')\n",
    "plt.legend()\n",
    "plt.show()"
   ]
  },
  {
   "cell_type": "markdown",
   "id": "778d1085",
   "metadata": {},
   "source": [
    "### 9. Função para Predição\n",
    "\n",
    "Criamos uma função auxiliar para encapsular todo o processo de pré-processamento e predição para uma nova frase."
   ]
  },
  {
   "cell_type": "code",
   "execution_count": 12,
   "id": "af2e0c4b",
   "metadata": {},
   "outputs": [],
   "source": [
    "def predict_service(text):\n",
    "    # Pré-processar o texto de entrada\n",
    "    sequence = tokenizer.texts_to_sequences([text])\n",
    "    padded_sequence = pad_sequences(sequence, maxlen=max_length, padding='post', truncating='post')\n",
    "\n",
    "    # Fazer a predição\n",
    "    prediction = model.predict(padded_sequence)\n",
    "    predicted_class_index = np.argmax(prediction)\n",
    "\n",
    "    # Decodificar o resultado para o nome do serviço\n",
    "    predicted_service_name = label_encoder.inverse_transform([predicted_class_index])\n",
    "\n",
    "    return predicted_service_name[0]"
   ]
  },
  {
   "cell_type": "markdown",
   "id": "b5a56431",
   "metadata": {},
   "source": [
    "### 10. Teste do Modelo com Novas Frases"
   ]
  },
  {
   "cell_type": "code",
   "execution_count": 13,
   "id": "b2522cac",
   "metadata": {},
   "outputs": [
    {
     "name": "stdout",
     "output_type": "stream",
     "text": [
      "\n",
      "--- Testando o modelo com novas frases ---\n",
      "\u001b[1m1/1\u001b[0m \u001b[32m━━━━━━━━━━━━━━━━━━━━\u001b[0m\u001b[37m\u001b[0m \u001b[1m0s\u001b[0m 132ms/step\n",
      "Frase: 'esqueci a senha do meu cartao'\n",
      "Serviço Previsto: 'Consulta Limite / Vencimento do cartão / Melhor dia de compra'\n",
      "\n",
      "\u001b[1m1/1\u001b[0m \u001b[32m━━━━━━━━━━━━━━━━━━━━\u001b[0m\u001b[37m\u001b[0m \u001b[1m0s\u001b[0m 26ms/step\n",
      "Frase: 'onde está meu novo cartão?'\n",
      "Serviço Previsto: 'Status de cartão'\n",
      "\n",
      "\u001b[1m1/1\u001b[0m \u001b[32m━━━━━━━━━━━━━━━━━━━━\u001b[0m\u001b[37m\u001b[0m \u001b[1m0s\u001b[0m 29ms/step\n",
      "Frase: 'quero pagar a fatura'\n",
      "Serviço Previsto: 'Pagamento de contas'\n",
      "\n"
     ]
    }
   ],
   "source": [
    "# Testar com novas frases\n",
    "print(\"\\n--- Testando o modelo com novas frases ---\")\n",
    "test_phrase_1 = \"esqueci a senha do meu cartao\"\n",
    "predicted_service_1 = predict_service(test_phrase_1)\n",
    "print(f\"Frase: '{test_phrase_1}'\")\n",
    "print(f\"Serviço Previsto: '{predicted_service_1}'\\n\")\n",
    "\n",
    "test_phrase_2 = \"onde está meu novo cartão?\"\n",
    "predicted_service_2 = predict_service(test_phrase_2)\n",
    "print(f\"Frase: '{test_phrase_2}'\")\n",
    "print(f\"Serviço Previsto: '{predicted_service_2}'\\n\")\n",
    "\n",
    "test_phrase_3 = \"quero pagar a fatura\"\n",
    "predicted_service_3 = predict_service(test_phrase_3)\n",
    "print(f\"Frase: '{test_phrase_3}'\")\n",
    "print(f\"Serviço Previsto: '{predicted_service_3}'\\n\")"
   ]
  },
  {
   "cell_type": "code",
   "execution_count": 14,
   "id": "6728daa1",
   "metadata": {},
   "outputs": [
    {
     "name": "stderr",
     "output_type": "stream",
     "text": [
      "WARNING:absl:You are saving your model as an HDF5 file via `model.save()` or `keras.saving.save_model(model)`. This file format is considered legacy. We recommend using instead the native Keras format, e.g. `model.save('my_model.keras')` or `keras.saving.save_model(model, 'my_model.keras')`. \n"
     ]
    }
   ],
   "source": [
    "# Save the model\n",
    "model.save('service_intent_model.h5')"
   ]
  },
  {
   "cell_type": "markdown",
   "id": "9cc9a57b",
   "metadata": {},
   "source": [
    "### 11. Geração de Dados Sintéticos (Opcional)\n",
    "\n",
    "Para aumentar a robustez do modelo, podemos gerar dados sintéticos. A célula abaixo cria um novo arquivo CSV com 100 exemplos de frases para cada categoria de serviço, totalizando 1600 novas amostras.\n",
    "\n",
    "**Atenção**: Execute esta célula apenas uma vez para criar o arquivo."
   ]
  },
  {
   "cell_type": "code",
   "execution_count": null,
   "id": "ec93aed5",
   "metadata": {},
   "outputs": [],
   "source": [
    "import pandas as pd\n",
    "import random\n",
    "import os\n",
    "\n",
    "# Dicionário com os serviços e templates de frases\n",
    "services_data = {\n",
    "    \"Consulta Limite / Vencimento do cartão / Melhor dia de compra\": [\n",
    "        \"qual o limite do meu cartão?\", \"quanto ainda tenho de limite?\", \"meu limite disponível\",\n",
    "        \"quando vence minha fatura?\", \"qual a data de vencimento?\", \"vencimento da fatura\",\n",
    "        \"melhor dia para comprar\", \"qual o melhor dia de compra?\", \"dia bom para usar o cartão\"\n",
    "    ],\n",
    "    \"Segunda via de boleto de acordo\": [\n",
    "        \"preciso da segunda via do meu acordo\", \"gerar boleto da negociação\", \"não recebi o boleto do acordo\",\n",
    "        \"enviar novamente o boleto do meu parcelamento\", \"código de barras do acordo\", \"pagar meu acordo\"\n",
    "    ],\n",
    "    \"Segunda via de Fatura\": [\n",
    "        \"quero a segunda via da minha fatura\", \"me envia o boleto da fatura, por favor\", \"não achei minha fatura\",\n",
    "        \"preciso do código de barras para pagar a fatura\", \"gerar fatura em PDF\", \"fatura detalhada\"\n",
    "    ],\n",
    "    \"Status de Entrega do Cartão\": [\n",
    "        \"gostaria de saber onde está meu cartão\", \"qual o status da entrega do meu cartão?\", \"meu cartão já foi enviado?\",\n",
    "        \"rastrear entrega do cartão\", \"previsão de chegada do cartão\", \"ainda não recebi meu cartão\"\n",
    "    ],\n",
    "    \"Status de cartão\": [\n",
    "        \"meu cartão foi bloqueado?\", \"qual o status do meu cartão?\", \"o cartão está ativo para uso?\",\n",
    "        \"não consigo usar meu cartão\", \"minha compra foi recusada\", \"verificar status do cartão\"\n",
    "    ],\n",
    "    \"Solicitação de aumento de limite\": [\n",
    "        \"gostaria de pedir um aumento de limite\", \"como faço para ter mais limite?\", \"solicitar mais crédito\",\n",
    "        \"aumentar o limite do meu cartão de crédito\", \"meu limite é baixo, posso aumentar?\", \"quero um limite maior\"\n",
    "    ],\n",
    "    \"Cancelamento de cartão\": [\n",
    "        \"quero cancelar meu cartão\", \"como faço para cancelar o cartão?\", \"não quero mais ter este cartão\",\n",
    "        \"encerrar minha conta do cartão\", \"cancelar o cartão de crédito\", \"desativar meu cartão permanentemente\"\n",
    "    ],\n",
    "    \"Telefones de seguradoras\": [\n",
    "        \"qual o telefone do seguro do cartão?\", \"preciso do contato da seguradora\", \"como falo com o seguro?\",\n",
    "        \"número para acionar o seguro\", \"cancelar seguro do cartão\", \"informações sobre a apólice de seguro\"\n",
    "    ],\n",
    "    \"Desbloqueio de Cartão\": [\n",
    "        \"recebi meu cartão e quero desbloquear\", \"como desbloquear o cartão novo?\", \"desbloquear meu cartão agora\",\n",
    "        \"ativar o cartão para compras\", \"meu cartão chegou, como ativo?\", \"quero usar meu cartão novo\"\n",
    "    ],\n",
    "    \"Esqueceu senha / Troca de senha\": [\n",
    "        \"esqueci a senha do meu cartão, e agora?\", \"preciso cadastrar uma nova senha\", \"como altero a senha do cartão?\",\n",
    "        \"não lembro minha senha\", \"quero trocar a senha\", \"ajuda para recuperar a senha\"\n",
    "    ],\n",
    "    \"Perda e roubo\": [\n",
    "        \"perdi meu cartão, preciso bloquear\", \"fui roubado, levem meu cartão\", \"bloquear cartão por perda\",\n",
    "        \"meu cartão foi furtado\", \"comunicar roubo de cartão\", \"extraviei meu cartão, o que fazer?\"\n",
    "    ],\n",
    "    \"Consulta do Saldo\": [\n",
    "        \"qual o saldo da minha conta?\", \"gostaria de ver meu saldo\", \"quanto dinheiro eu tenho?\",\n",
    "        \"consultar o extrato da conta\", \"verificar meu saldo atual\", \"meu saldo por favor\"\n",
    "    ],\n",
    "    \"Pagamento de contas\": [\n",
    "        \"quero pagar uma conta de consumo\", \"pagar um boleto com a câmera\", \"agendar pagamento de conta\",\n",
    "        \"realizar pagamento de boleto\", \"como pagar contas pelo app?\", \"pagar fatura de água\"\n",
    "    ],\n",
    "    \"Reclamações\": [\n",
    "        \"gostaria de fazer uma reclamação\", \"quero registrar uma queixa sobre o atendimento\", \"não estou satisfeito com o serviço\",\n",
    "        \"abrir um protocolo de reclamação\", \"reclamar sobre uma cobrança indevida\", \"tenho uma queixa\"\n",
    "    ],\n",
    "    \"Atendimento humano\": [\n",
    "        \"preciso falar com um atendente\", \"quero ser transferido para uma pessoa\", \"falar com um especialista\",\n",
    "        \"me ajuda a falar com um humano\", \"não quero falar com robô\", \"atendimento com uma pessoa, por favor\"\n",
    "    ],\n",
    "    \"Token de proposta\": [\n",
    "        \"qual o token da minha proposta?\", \"não recebi o código do meu cartão\", \"informar token para finalizar a proposta\",\n",
    "        \"cadê o número do token?\", \"preciso do token para continuar\", \"validar proposta com token\"\n",
    "    ]\n",
    "}\n",
    "\n",
    "# Gerar os dados\n",
    "generated_data = []\n",
    "for service, templates in services_data.items():\n",
    "    for _ in range(100):\n",
    "        intent = random.choice(templates)\n",
    "        # Adicionar pequenas variações\n",
    "        if random.random() > 0.7:\n",
    "            intent = intent.replace(\"?\", \"\").strip()\n",
    "        if random.random() > 0.8:\n",
    "            intent = \"por favor, \" + intent\n",
    "        if random.random() > 0.9:\n",
    "            intent = intent.upper()\n",
    "            \n",
    "        generated_data.append({\"intent\": intent, \"service_name\": service})\n",
    "\n",
    "# Criar DataFrame\n",
    "df_generated = pd.DataFrame(generated_data)\n",
    "\n",
    "# Caminho para salvar o arquivo\n",
    "output_path = '../../../assets/intents_generated.csv'\n",
    "\n",
    "# Criar o diretório se não existir\n",
    "os.makedirs(os.path.dirname(output_path), exist_ok=True)\n",
    "\n",
    "# Salvar em CSV\n",
    "df_generated.to_csv(output_path, sep=';', index=False, encoding='utf-8-sig')\n",
    "\n",
    "print(f\"Arquivo '{output_path}' criado com {len(df_generated)} linhas.\")\n",
    "df_generated.head()"
   ]
  }
 ],
 "metadata": {
  "kernelspec": {
   "display_name": "venv",
   "language": "python",
   "name": "python3"
  },
  "language_info": {
   "codemirror_mode": {
    "name": "ipython",
    "version": 3
   },
   "file_extension": ".py",
   "mimetype": "text/x-python",
   "name": "python",
   "nbconvert_exporter": "python",
   "pygments_lexer": "ipython3",
   "version": "3.11.14"
  }
 },
 "nbformat": 4,
 "nbformat_minor": 5
}
