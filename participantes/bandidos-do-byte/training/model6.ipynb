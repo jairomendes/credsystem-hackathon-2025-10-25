{
 "cells": [
  {
   "cell_type": "markdown",
   "id": "bac4928e",
   "metadata": {},
   "source": [
    "# Modelo de Classificação de Intenções com CNN e LSTM\n",
    "\n",
    "Este notebook implementa uma rede neural para classificar a intenção de um usuário (`intent`) em uma categoria de serviço (`service_name`) com base em uma frase de entrada.\n",
    "\n",
    "A arquitetura do modelo combina:\n",
    "- **Camadas Convolucionais (Conv1D)**: Para extrair características locais e n-gramas do texto.\n",
    "- **Camadas Recorrentes (LSTM)**: Para entender o contexto e as dependências sequenciais nas características extraídas."
   ]
  },
  {
   "cell_type": "markdown",
   "id": "8633097e",
   "metadata": {},
   "source": [
    "### 1. Importação das Bibliotecas"
   ]
  },
  {
   "cell_type": "code",
   "execution_count": 1,
   "id": "5fc3e285",
   "metadata": {},
   "outputs": [],
   "source": [
    "import pandas as pd\n",
    "import numpy as np\n",
    "import tensorflow as tf\n",
    "from tensorflow.keras.models import Sequential, Model\n",
    "from tensorflow.keras.layers import (Embedding, Conv1D, MaxPooling1D, LSTM, Dense, Dropout, \n",
    "                                      Bidirectional, Input, GlobalMaxPooling1D, \n",
    "                                      GlobalAveragePooling1D, Concatenate)\n",
    "from tensorflow.keras.preprocessing.text import Tokenizer\n",
    "from tensorflow.keras.preprocessing.sequence import pad_sequences\n",
    "from tensorflow.keras.callbacks import EarlyStopping, ReduceLROnPlateau, ModelCheckpoint\n",
    "from sklearn.model_selection import train_test_split\n",
    "from sklearn.preprocessing import LabelEncoder\n",
    "from sklearn.utils.class_weight import compute_class_weight\n",
    "import seaborn as sns\n",
    "import matplotlib.pyplot as plt\n",
    "from sklearn.metrics import confusion_matrix, classification_report\n",
    "import re"
   ]
  },
  {
   "cell_type": "markdown",
   "id": "7446fd4e",
   "metadata": {},
   "source": [
    "### 2. Carregamento e Pré-processamento dos Dados\n",
    "\n",
    "Carregamos o arquivo CSV, definimos o delimitador e separamos as colunas de entrada (`intent`) e de alvo (`service_name`)."
   ]
  },
  {
   "cell_type": "code",
   "execution_count": 2,
   "id": "ca32ebb6",
   "metadata": {},
   "outputs": [
    {
     "name": "stdout",
     "output_type": "stream",
     "text": [
      "Dados de Treinamento Carregados:\n"
     ]
    },
    {
     "data": {
      "text/html": [
       "<div>\n",
       "<style scoped>\n",
       "    .dataframe tbody tr th:only-of-type {\n",
       "        vertical-align: middle;\n",
       "    }\n",
       "\n",
       "    .dataframe tbody tr th {\n",
       "        vertical-align: top;\n",
       "    }\n",
       "\n",
       "    .dataframe thead th {\n",
       "        text-align: right;\n",
       "    }\n",
       "</style>\n",
       "<table border=\"1\" class=\"dataframe\">\n",
       "  <thead>\n",
       "    <tr style=\"text-align: right;\">\n",
       "      <th></th>\n",
       "      <th>service_id</th>\n",
       "      <th>service_name</th>\n",
       "      <th>intent</th>\n",
       "    </tr>\n",
       "  </thead>\n",
       "  <tbody>\n",
       "    <tr>\n",
       "      <th>0</th>\n",
       "      <td>1</td>\n",
       "      <td>Consulta Limite / Vencimento do cartão / Melho...</td>\n",
       "      <td>Quanto tem disponível para usar</td>\n",
       "    </tr>\n",
       "    <tr>\n",
       "      <th>1</th>\n",
       "      <td>1</td>\n",
       "      <td>Consulta Limite / Vencimento do cartão / Melho...</td>\n",
       "      <td>quando fecha minha fatura</td>\n",
       "    </tr>\n",
       "    <tr>\n",
       "      <th>2</th>\n",
       "      <td>1</td>\n",
       "      <td>Consulta Limite / Vencimento do cartão / Melho...</td>\n",
       "      <td>Quando vence meu cartão</td>\n",
       "    </tr>\n",
       "    <tr>\n",
       "      <th>3</th>\n",
       "      <td>1</td>\n",
       "      <td>Consulta Limite / Vencimento do cartão / Melho...</td>\n",
       "      <td>quando posso comprar</td>\n",
       "    </tr>\n",
       "    <tr>\n",
       "      <th>4</th>\n",
       "      <td>1</td>\n",
       "      <td>Consulta Limite / Vencimento do cartão / Melho...</td>\n",
       "      <td>vencimento da fatura</td>\n",
       "    </tr>\n",
       "  </tbody>\n",
       "</table>\n",
       "</div>"
      ],
      "text/plain": [
       "   service_id                                       service_name  \\\n",
       "0           1  Consulta Limite / Vencimento do cartão / Melho...   \n",
       "1           1  Consulta Limite / Vencimento do cartão / Melho...   \n",
       "2           1  Consulta Limite / Vencimento do cartão / Melho...   \n",
       "3           1  Consulta Limite / Vencimento do cartão / Melho...   \n",
       "4           1  Consulta Limite / Vencimento do cartão / Melho...   \n",
       "\n",
       "                            intent  \n",
       "0  Quanto tem disponível para usar  \n",
       "1        quando fecha minha fatura  \n",
       "2          Quando vence meu cartão  \n",
       "3             quando posso comprar  \n",
       "4             vencimento da fatura  "
      ]
     },
     "execution_count": 2,
     "metadata": {},
     "output_type": "execute_result"
    }
   ],
   "source": [
    "# O caminho para o CSV de TREINAMENTO é relativo à localização deste notebook\n",
    "# csv_path_train = '../../../assets/intents_generated.csv'\n",
    "csv_path_train = 'intents_generated_3.csv'\n",
    "\n",
    "df_train = pd.read_csv(csv_path_train, delimiter=';')\n",
    "\n",
    "# Remover linhas com valores ausentes\n",
    "df_train.dropna(subset=['intent', 'service_name'], inplace=True)\n",
    "\n",
    "# Definir textos (X) e rótulos (y) para o treino\n",
    "intents_train = df_train['intent'].values\n",
    "service_names_train = df_train['service_name'].values\n",
    "\n",
    "print(\"Dados de Treinamento Carregados:\")\n",
    "df_train.head()"
   ]
  },
  {
   "cell_type": "markdown",
   "id": "11b90f14",
   "metadata": {},
   "source": [
    "### 2.1. Normalização do Texto\n",
    "\n",
    "Para melhorar a qualidade dos dados, vamos normalizar o texto removendo pontuações excessivas e convertendo para minúsculas."
   ]
  },
  {
   "cell_type": "code",
   "execution_count": 3,
   "id": "78801e75",
   "metadata": {},
   "outputs": [
    {
     "name": "stdout",
     "output_type": "stream",
     "text": [
      "\n",
      "Dados de Avaliação Carregados:\n"
     ]
    },
    {
     "data": {
      "text/html": [
       "<div>\n",
       "<style scoped>\n",
       "    .dataframe tbody tr th:only-of-type {\n",
       "        vertical-align: middle;\n",
       "    }\n",
       "\n",
       "    .dataframe tbody tr th {\n",
       "        vertical-align: top;\n",
       "    }\n",
       "\n",
       "    .dataframe thead th {\n",
       "        text-align: right;\n",
       "    }\n",
       "</style>\n",
       "<table border=\"1\" class=\"dataframe\">\n",
       "  <thead>\n",
       "    <tr style=\"text-align: right;\">\n",
       "      <th></th>\n",
       "      <th>service_id</th>\n",
       "      <th>service_name</th>\n",
       "      <th>intent</th>\n",
       "    </tr>\n",
       "  </thead>\n",
       "  <tbody>\n",
       "    <tr>\n",
       "      <th>0</th>\n",
       "      <td>1</td>\n",
       "      <td>Consulta Limite / Vencimento do cartão / Melho...</td>\n",
       "      <td>Quanto tem disponível para usar</td>\n",
       "    </tr>\n",
       "    <tr>\n",
       "      <th>1</th>\n",
       "      <td>1</td>\n",
       "      <td>Consulta Limite / Vencimento do cartão / Melho...</td>\n",
       "      <td>quando fecha minha fatura</td>\n",
       "    </tr>\n",
       "    <tr>\n",
       "      <th>2</th>\n",
       "      <td>1</td>\n",
       "      <td>Consulta Limite / Vencimento do cartão / Melho...</td>\n",
       "      <td>Quando vence meu cartão</td>\n",
       "    </tr>\n",
       "    <tr>\n",
       "      <th>3</th>\n",
       "      <td>1</td>\n",
       "      <td>Consulta Limite / Vencimento do cartão / Melho...</td>\n",
       "      <td>quando posso comprar</td>\n",
       "    </tr>\n",
       "    <tr>\n",
       "      <th>4</th>\n",
       "      <td>1</td>\n",
       "      <td>Consulta Limite / Vencimento do cartão / Melho...</td>\n",
       "      <td>vencimento da fatura</td>\n",
       "    </tr>\n",
       "  </tbody>\n",
       "</table>\n",
       "</div>"
      ],
      "text/plain": [
       "   service_id                                       service_name  \\\n",
       "0           1  Consulta Limite / Vencimento do cartão / Melho...   \n",
       "1           1  Consulta Limite / Vencimento do cartão / Melho...   \n",
       "2           1  Consulta Limite / Vencimento do cartão / Melho...   \n",
       "3           1  Consulta Limite / Vencimento do cartão / Melho...   \n",
       "4           1  Consulta Limite / Vencimento do cartão / Melho...   \n",
       "\n",
       "                            intent  \n",
       "0  Quanto tem disponível para usar  \n",
       "1        quando fecha minha fatura  \n",
       "2          Quando vence meu cartão  \n",
       "3             quando posso comprar  \n",
       "4             vencimento da fatura  "
      ]
     },
     "execution_count": 3,
     "metadata": {},
     "output_type": "execute_result"
    }
   ],
   "source": [
    "# O caminho para o CSV de AVALIAÇÃO é relativo à localização deste notebook\n",
    "csv_path_test = 'intents_pre_loaded.csv'\n",
    "\n",
    "df_test = pd.read_csv(csv_path_test, delimiter=';')\n",
    "\n",
    "# Remover linhas com valores ausentes\n",
    "df_test.dropna(subset=['intent', 'service_name'], inplace=True)\n",
    "\n",
    "# Definir textos (X) e rótulos (y) para o teste\n",
    "intents_test = df_test['intent'].values\n",
    "service_names_test = df_test['service_name'].values\n",
    "\n",
    "print(\"\\nDados de Avaliação Carregados:\")\n",
    "df_test.head()"
   ]
  },
  {
   "cell_type": "code",
   "execution_count": 4,
   "id": "37460eff",
   "metadata": {},
   "outputs": [
    {
     "name": "stdout",
     "output_type": "stream",
     "text": [
      "Exemplos de textos normalizados:\n",
      "['quanto tem disponível para usar' 'quando fecha minha fatura'\n",
      " 'quando vence meu cartão']\n"
     ]
    }
   ],
   "source": [
    "def normalize_text(text):\n",
    "    \"\"\"Normaliza o texto removendo pontuação excessiva e convertendo para minúsculas\"\"\"\n",
    "    text = str(text).lower()\n",
    "    # Remove múltiplos espaços\n",
    "    text = re.sub(r'\\s+', ' ', text)\n",
    "    # Remove pontuação no final\n",
    "    text = re.sub(r'[!?.,;:]+$', '', text)\n",
    "    return text.strip()\n",
    "\n",
    "# Aplicar normalização aos dados de treino e teste\n",
    "intents_train = np.array([normalize_text(x) for x in intents_train])\n",
    "intents_test = np.array([normalize_text(x) for x in intents_test])\n",
    "\n",
    "print(\"Exemplos de textos normalizados:\")\n",
    "print(intents_train[:3])"
   ]
  },
  {
   "cell_type": "markdown",
   "id": "482b0bed",
   "metadata": {},
   "source": [
    "### 3. Codificação dos Rótulos (Labels)\n",
    "\n",
    "As redes neurais trabalham com números. Usamos o `LabelEncoder` para converter os nomes dos serviços (texto) em números inteiros."
   ]
  },
  {
   "cell_type": "code",
   "execution_count": 5,
   "id": "7e4c020d",
   "metadata": {},
   "outputs": [
    {
     "name": "stdout",
     "output_type": "stream",
     "text": [
      "Número de classes de serviço: 16\n",
      "Exemplo de rótulo de treino codificado: [2 2 2 2 2]\n",
      "Exemplo de rótulo de teste codificado: [2 2 2 2 2]\n"
     ]
    }
   ],
   "source": [
    "# Combinar todos os rótulos para garantir que o LabelEncoder conheça todas as classes\n",
    "all_service_names = np.concatenate([service_names_train, service_names_test])\n",
    "\n",
    "label_encoder = LabelEncoder()\n",
    "label_encoder.fit(all_service_names)\n",
    "\n",
    "# Codificar os rótulos de treino e de teste\n",
    "y_train_encoded = label_encoder.transform(service_names_train)\n",
    "y_test_encoded = label_encoder.transform(service_names_test)\n",
    "\n",
    "num_classes = len(label_encoder.classes_)\n",
    "\n",
    "print(f\"Número de classes de serviço: {num_classes}\")\n",
    "print(f\"Exemplo de rótulo de treino codificado: {y_train_encoded[:5]}\")\n",
    "print(f\"Exemplo de rótulo de teste codificado: {y_test_encoded[:5]}\")"
   ]
  },
  {
   "cell_type": "markdown",
   "id": "b1622ba3",
   "metadata": {},
   "source": [
    "### 4. Tokenização e Padding\n",
    "\n",
    "O texto é convertido em sequências de números (`Tokenização`) e, em seguida, todas as sequências são padronizadas para ter o mesmo comprimento (`Padding`)."
   ]
  },
  {
   "cell_type": "code",
   "execution_count": 6,
   "id": "27b7fdca",
   "metadata": {},
   "outputs": [
    {
     "name": "stdout",
     "output_type": "stream",
     "text": [
      "Tamanho do vocabulário: 470\n",
      "Tamanho máximo das sequências: 40\n",
      "Dimensão dos embeddings: 128\n"
     ]
    }
   ],
   "source": [
    "# Configurações aprimoradas\n",
    "max_length = 40    # Aumentado para capturar frases mais longas\n",
    "embedding_dim = 128 # Aumentado para vetores mais ricos\n",
    "vocab_size_limit = 20000  # Limite para evitar overfitting\n",
    "\n",
    "# Criar e treinar o tokenizer com os dados de TREINO\n",
    "tokenizer = Tokenizer(num_words=vocab_size_limit, oov_token=\"<unk>\")\n",
    "tokenizer.fit_on_texts(intents_train)\n",
    "\n",
    "# Tamanho real do vocabulário (limitado ou total)\n",
    "vocab_size = min(len(tokenizer.word_index) + 1, vocab_size_limit)\n",
    "\n",
    "# Converter textos de treino para sequências de inteiros\n",
    "X_train_sequences = tokenizer.texts_to_sequences(intents_train)\n",
    "X_train_padded = pad_sequences(X_train_sequences, maxlen=max_length, padding='post', truncating='post')\n",
    "\n",
    "# Converter textos de teste para sequências de inteiros\n",
    "X_test_sequences = tokenizer.texts_to_sequences(intents_test)\n",
    "X_test_padded = pad_sequences(X_test_sequences, maxlen=max_length, padding='post', truncating='post')\n",
    "\n",
    "print(f\"Tamanho do vocabulário: {vocab_size}\")\n",
    "print(f\"Tamanho máximo das sequências: {max_length}\")\n",
    "print(f\"Dimensão dos embeddings: {embedding_dim}\")"
   ]
  },
  {
   "cell_type": "markdown",
   "id": "fa7491dd",
   "metadata": {},
   "source": [
    "### 6. Construção do Modelo Aprimorado (CNN + LSTM + Attention)\n",
    "\n",
    "Modelo com arquitetura mais robusta:\n",
    "- Múltiplas camadas convolucionais com diferentes tamanhos de kernel\n",
    "- LSTM bidirecional com `return_sequences=True`\n",
    "- Pooling global (Max + Average) para capturar características importantes\n",
    "- Camadas densas com regularização"
   ]
  },
  {
   "cell_type": "code",
   "execution_count": 7,
   "id": "69dabc61",
   "metadata": {},
   "outputs": [
    {
     "name": "stderr",
     "output_type": "stream",
     "text": [
      "d:\\fcf\\code\\credsystem-hackathon-2025-10-25\\participantes\\bandidos-do-byte\\venv\\Lib\\site-packages\\keras\\src\\layers\\core\\embedding.py:97: UserWarning: Argument `input_length` is deprecated. Just remove it.\n",
      "  warnings.warn(\n"
     ]
    },
    {
     "data": {
      "text/html": [
       "<pre style=\"white-space:pre;overflow-x:auto;line-height:normal;font-family:Menlo,'DejaVu Sans Mono',consolas,'Courier New',monospace\"><span style=\"font-weight: bold\">Model: \"functional\"</span>\n",
       "</pre>\n"
      ],
      "text/plain": [
       "\u001b[1mModel: \"functional\"\u001b[0m\n"
      ]
     },
     "metadata": {},
     "output_type": "display_data"
    },
    {
     "data": {
      "text/html": [
       "<pre style=\"white-space:pre;overflow-x:auto;line-height:normal;font-family:Menlo,'DejaVu Sans Mono',consolas,'Courier New',monospace\">┏━━━━━━━━━━━━━━━━━━━━━┳━━━━━━━━━━━━━━━━━━━┳━━━━━━━━━━━━┳━━━━━━━━━━━━━━━━━━━┓\n",
       "┃<span style=\"font-weight: bold\"> Layer (type)        </span>┃<span style=\"font-weight: bold\"> Output Shape      </span>┃<span style=\"font-weight: bold\">    Param # </span>┃<span style=\"font-weight: bold\"> Connected to      </span>┃\n",
       "┡━━━━━━━━━━━━━━━━━━━━━╇━━━━━━━━━━━━━━━━━━━╇━━━━━━━━━━━━╇━━━━━━━━━━━━━━━━━━━┩\n",
       "│ input_layer         │ (<span style=\"color: #00d7ff; text-decoration-color: #00d7ff\">None</span>, <span style=\"color: #00af00; text-decoration-color: #00af00\">40</span>)        │          <span style=\"color: #00af00; text-decoration-color: #00af00\">0</span> │ -                 │\n",
       "│ (<span style=\"color: #0087ff; text-decoration-color: #0087ff\">InputLayer</span>)        │                   │            │                   │\n",
       "├─────────────────────┼───────────────────┼────────────┼───────────────────┤\n",
       "│ embedding           │ (<span style=\"color: #00d7ff; text-decoration-color: #00d7ff\">None</span>, <span style=\"color: #00af00; text-decoration-color: #00af00\">40</span>, <span style=\"color: #00af00; text-decoration-color: #00af00\">128</span>)   │     <span style=\"color: #00af00; text-decoration-color: #00af00\">60,160</span> │ input_layer[<span style=\"color: #00af00; text-decoration-color: #00af00\">0</span>][<span style=\"color: #00af00; text-decoration-color: #00af00\">0</span>] │\n",
       "│ (<span style=\"color: #0087ff; text-decoration-color: #0087ff\">Embedding</span>)         │                   │            │                   │\n",
       "├─────────────────────┼───────────────────┼────────────┼───────────────────┤\n",
       "│ conv1d (<span style=\"color: #0087ff; text-decoration-color: #0087ff\">Conv1D</span>)     │ (<span style=\"color: #00d7ff; text-decoration-color: #00d7ff\">None</span>, <span style=\"color: #00af00; text-decoration-color: #00af00\">40</span>, <span style=\"color: #00af00; text-decoration-color: #00af00\">128</span>)   │     <span style=\"color: #00af00; text-decoration-color: #00af00\">49,280</span> │ embedding[<span style=\"color: #00af00; text-decoration-color: #00af00\">0</span>][<span style=\"color: #00af00; text-decoration-color: #00af00\">0</span>]   │\n",
       "├─────────────────────┼───────────────────┼────────────┼───────────────────┤\n",
       "│ max_pooling1d       │ (<span style=\"color: #00d7ff; text-decoration-color: #00d7ff\">None</span>, <span style=\"color: #00af00; text-decoration-color: #00af00\">20</span>, <span style=\"color: #00af00; text-decoration-color: #00af00\">128</span>)   │          <span style=\"color: #00af00; text-decoration-color: #00af00\">0</span> │ conv1d[<span style=\"color: #00af00; text-decoration-color: #00af00\">0</span>][<span style=\"color: #00af00; text-decoration-color: #00af00\">0</span>]      │\n",
       "│ (<span style=\"color: #0087ff; text-decoration-color: #0087ff\">MaxPooling1D</span>)      │                   │            │                   │\n",
       "├─────────────────────┼───────────────────┼────────────┼───────────────────┤\n",
       "│ conv1d_1 (<span style=\"color: #0087ff; text-decoration-color: #0087ff\">Conv1D</span>)   │ (<span style=\"color: #00d7ff; text-decoration-color: #00d7ff\">None</span>, <span style=\"color: #00af00; text-decoration-color: #00af00\">20</span>, <span style=\"color: #00af00; text-decoration-color: #00af00\">128</span>)   │     <span style=\"color: #00af00; text-decoration-color: #00af00\">82,048</span> │ max_pooling1d[<span style=\"color: #00af00; text-decoration-color: #00af00\">0</span>]… │\n",
       "├─────────────────────┼───────────────────┼────────────┼───────────────────┤\n",
       "│ max_pooling1d_1     │ (<span style=\"color: #00d7ff; text-decoration-color: #00d7ff\">None</span>, <span style=\"color: #00af00; text-decoration-color: #00af00\">10</span>, <span style=\"color: #00af00; text-decoration-color: #00af00\">128</span>)   │          <span style=\"color: #00af00; text-decoration-color: #00af00\">0</span> │ conv1d_1[<span style=\"color: #00af00; text-decoration-color: #00af00\">0</span>][<span style=\"color: #00af00; text-decoration-color: #00af00\">0</span>]    │\n",
       "│ (<span style=\"color: #0087ff; text-decoration-color: #0087ff\">MaxPooling1D</span>)      │                   │            │                   │\n",
       "├─────────────────────┼───────────────────┼────────────┼───────────────────┤\n",
       "│ dropout (<span style=\"color: #0087ff; text-decoration-color: #0087ff\">Dropout</span>)   │ (<span style=\"color: #00d7ff; text-decoration-color: #00d7ff\">None</span>, <span style=\"color: #00af00; text-decoration-color: #00af00\">10</span>, <span style=\"color: #00af00; text-decoration-color: #00af00\">128</span>)   │          <span style=\"color: #00af00; text-decoration-color: #00af00\">0</span> │ max_pooling1d_1[<span style=\"color: #00af00; text-decoration-color: #00af00\">…</span> │\n",
       "├─────────────────────┼───────────────────┼────────────┼───────────────────┤\n",
       "│ bidirectional       │ (<span style=\"color: #00d7ff; text-decoration-color: #00d7ff\">None</span>, <span style=\"color: #00af00; text-decoration-color: #00af00\">10</span>, <span style=\"color: #00af00; text-decoration-color: #00af00\">256</span>)   │    <span style=\"color: #00af00; text-decoration-color: #00af00\">263,168</span> │ dropout[<span style=\"color: #00af00; text-decoration-color: #00af00\">0</span>][<span style=\"color: #00af00; text-decoration-color: #00af00\">0</span>]     │\n",
       "│ (<span style=\"color: #0087ff; text-decoration-color: #0087ff\">Bidirectional</span>)     │                   │            │                   │\n",
       "├─────────────────────┼───────────────────┼────────────┼───────────────────┤\n",
       "│ global_max_pooling… │ (<span style=\"color: #00d7ff; text-decoration-color: #00d7ff\">None</span>, <span style=\"color: #00af00; text-decoration-color: #00af00\">256</span>)       │          <span style=\"color: #00af00; text-decoration-color: #00af00\">0</span> │ bidirectional[<span style=\"color: #00af00; text-decoration-color: #00af00\">0</span>]… │\n",
       "│ (<span style=\"color: #0087ff; text-decoration-color: #0087ff\">GlobalMaxPooling1…</span> │                   │            │                   │\n",
       "├─────────────────────┼───────────────────┼────────────┼───────────────────┤\n",
       "│ global_average_poo… │ (<span style=\"color: #00d7ff; text-decoration-color: #00d7ff\">None</span>, <span style=\"color: #00af00; text-decoration-color: #00af00\">256</span>)       │          <span style=\"color: #00af00; text-decoration-color: #00af00\">0</span> │ bidirectional[<span style=\"color: #00af00; text-decoration-color: #00af00\">0</span>]… │\n",
       "│ (<span style=\"color: #0087ff; text-decoration-color: #0087ff\">GlobalAveragePool…</span> │                   │            │                   │\n",
       "├─────────────────────┼───────────────────┼────────────┼───────────────────┤\n",
       "│ concatenate         │ (<span style=\"color: #00d7ff; text-decoration-color: #00d7ff\">None</span>, <span style=\"color: #00af00; text-decoration-color: #00af00\">512</span>)       │          <span style=\"color: #00af00; text-decoration-color: #00af00\">0</span> │ global_max_pooli… │\n",
       "│ (<span style=\"color: #0087ff; text-decoration-color: #0087ff\">Concatenate</span>)       │                   │            │ global_average_p… │\n",
       "├─────────────────────┼───────────────────┼────────────┼───────────────────┤\n",
       "│ dense (<span style=\"color: #0087ff; text-decoration-color: #0087ff\">Dense</span>)       │ (<span style=\"color: #00d7ff; text-decoration-color: #00d7ff\">None</span>, <span style=\"color: #00af00; text-decoration-color: #00af00\">128</span>)       │     <span style=\"color: #00af00; text-decoration-color: #00af00\">65,664</span> │ concatenate[<span style=\"color: #00af00; text-decoration-color: #00af00\">0</span>][<span style=\"color: #00af00; text-decoration-color: #00af00\">0</span>] │\n",
       "├─────────────────────┼───────────────────┼────────────┼───────────────────┤\n",
       "│ dropout_1 (<span style=\"color: #0087ff; text-decoration-color: #0087ff\">Dropout</span>) │ (<span style=\"color: #00d7ff; text-decoration-color: #00d7ff\">None</span>, <span style=\"color: #00af00; text-decoration-color: #00af00\">128</span>)       │          <span style=\"color: #00af00; text-decoration-color: #00af00\">0</span> │ dense[<span style=\"color: #00af00; text-decoration-color: #00af00\">0</span>][<span style=\"color: #00af00; text-decoration-color: #00af00\">0</span>]       │\n",
       "├─────────────────────┼───────────────────┼────────────┼───────────────────┤\n",
       "│ dense_1 (<span style=\"color: #0087ff; text-decoration-color: #0087ff\">Dense</span>)     │ (<span style=\"color: #00d7ff; text-decoration-color: #00d7ff\">None</span>, <span style=\"color: #00af00; text-decoration-color: #00af00\">16</span>)        │      <span style=\"color: #00af00; text-decoration-color: #00af00\">2,064</span> │ dropout_1[<span style=\"color: #00af00; text-decoration-color: #00af00\">0</span>][<span style=\"color: #00af00; text-decoration-color: #00af00\">0</span>]   │\n",
       "└─────────────────────┴───────────────────┴────────────┴───────────────────┘\n",
       "</pre>\n"
      ],
      "text/plain": [
       "┏━━━━━━━━━━━━━━━━━━━━━┳━━━━━━━━━━━━━━━━━━━┳━━━━━━━━━━━━┳━━━━━━━━━━━━━━━━━━━┓\n",
       "┃\u001b[1m \u001b[0m\u001b[1mLayer (type)       \u001b[0m\u001b[1m \u001b[0m┃\u001b[1m \u001b[0m\u001b[1mOutput Shape     \u001b[0m\u001b[1m \u001b[0m┃\u001b[1m \u001b[0m\u001b[1m   Param #\u001b[0m\u001b[1m \u001b[0m┃\u001b[1m \u001b[0m\u001b[1mConnected to     \u001b[0m\u001b[1m \u001b[0m┃\n",
       "┡━━━━━━━━━━━━━━━━━━━━━╇━━━━━━━━━━━━━━━━━━━╇━━━━━━━━━━━━╇━━━━━━━━━━━━━━━━━━━┩\n",
       "│ input_layer         │ (\u001b[38;5;45mNone\u001b[0m, \u001b[38;5;34m40\u001b[0m)        │          \u001b[38;5;34m0\u001b[0m │ -                 │\n",
       "│ (\u001b[38;5;33mInputLayer\u001b[0m)        │                   │            │                   │\n",
       "├─────────────────────┼───────────────────┼────────────┼───────────────────┤\n",
       "│ embedding           │ (\u001b[38;5;45mNone\u001b[0m, \u001b[38;5;34m40\u001b[0m, \u001b[38;5;34m128\u001b[0m)   │     \u001b[38;5;34m60,160\u001b[0m │ input_layer[\u001b[38;5;34m0\u001b[0m][\u001b[38;5;34m0\u001b[0m] │\n",
       "│ (\u001b[38;5;33mEmbedding\u001b[0m)         │                   │            │                   │\n",
       "├─────────────────────┼───────────────────┼────────────┼───────────────────┤\n",
       "│ conv1d (\u001b[38;5;33mConv1D\u001b[0m)     │ (\u001b[38;5;45mNone\u001b[0m, \u001b[38;5;34m40\u001b[0m, \u001b[38;5;34m128\u001b[0m)   │     \u001b[38;5;34m49,280\u001b[0m │ embedding[\u001b[38;5;34m0\u001b[0m][\u001b[38;5;34m0\u001b[0m]   │\n",
       "├─────────────────────┼───────────────────┼────────────┼───────────────────┤\n",
       "│ max_pooling1d       │ (\u001b[38;5;45mNone\u001b[0m, \u001b[38;5;34m20\u001b[0m, \u001b[38;5;34m128\u001b[0m)   │          \u001b[38;5;34m0\u001b[0m │ conv1d[\u001b[38;5;34m0\u001b[0m][\u001b[38;5;34m0\u001b[0m]      │\n",
       "│ (\u001b[38;5;33mMaxPooling1D\u001b[0m)      │                   │            │                   │\n",
       "├─────────────────────┼───────────────────┼────────────┼───────────────────┤\n",
       "│ conv1d_1 (\u001b[38;5;33mConv1D\u001b[0m)   │ (\u001b[38;5;45mNone\u001b[0m, \u001b[38;5;34m20\u001b[0m, \u001b[38;5;34m128\u001b[0m)   │     \u001b[38;5;34m82,048\u001b[0m │ max_pooling1d[\u001b[38;5;34m0\u001b[0m]… │\n",
       "├─────────────────────┼───────────────────┼────────────┼───────────────────┤\n",
       "│ max_pooling1d_1     │ (\u001b[38;5;45mNone\u001b[0m, \u001b[38;5;34m10\u001b[0m, \u001b[38;5;34m128\u001b[0m)   │          \u001b[38;5;34m0\u001b[0m │ conv1d_1[\u001b[38;5;34m0\u001b[0m][\u001b[38;5;34m0\u001b[0m]    │\n",
       "│ (\u001b[38;5;33mMaxPooling1D\u001b[0m)      │                   │            │                   │\n",
       "├─────────────────────┼───────────────────┼────────────┼───────────────────┤\n",
       "│ dropout (\u001b[38;5;33mDropout\u001b[0m)   │ (\u001b[38;5;45mNone\u001b[0m, \u001b[38;5;34m10\u001b[0m, \u001b[38;5;34m128\u001b[0m)   │          \u001b[38;5;34m0\u001b[0m │ max_pooling1d_1[\u001b[38;5;34m…\u001b[0m │\n",
       "├─────────────────────┼───────────────────┼────────────┼───────────────────┤\n",
       "│ bidirectional       │ (\u001b[38;5;45mNone\u001b[0m, \u001b[38;5;34m10\u001b[0m, \u001b[38;5;34m256\u001b[0m)   │    \u001b[38;5;34m263,168\u001b[0m │ dropout[\u001b[38;5;34m0\u001b[0m][\u001b[38;5;34m0\u001b[0m]     │\n",
       "│ (\u001b[38;5;33mBidirectional\u001b[0m)     │                   │            │                   │\n",
       "├─────────────────────┼───────────────────┼────────────┼───────────────────┤\n",
       "│ global_max_pooling… │ (\u001b[38;5;45mNone\u001b[0m, \u001b[38;5;34m256\u001b[0m)       │          \u001b[38;5;34m0\u001b[0m │ bidirectional[\u001b[38;5;34m0\u001b[0m]… │\n",
       "│ (\u001b[38;5;33mGlobalMaxPooling1…\u001b[0m │                   │            │                   │\n",
       "├─────────────────────┼───────────────────┼────────────┼───────────────────┤\n",
       "│ global_average_poo… │ (\u001b[38;5;45mNone\u001b[0m, \u001b[38;5;34m256\u001b[0m)       │          \u001b[38;5;34m0\u001b[0m │ bidirectional[\u001b[38;5;34m0\u001b[0m]… │\n",
       "│ (\u001b[38;5;33mGlobalAveragePool…\u001b[0m │                   │            │                   │\n",
       "├─────────────────────┼───────────────────┼────────────┼───────────────────┤\n",
       "│ concatenate         │ (\u001b[38;5;45mNone\u001b[0m, \u001b[38;5;34m512\u001b[0m)       │          \u001b[38;5;34m0\u001b[0m │ global_max_pooli… │\n",
       "│ (\u001b[38;5;33mConcatenate\u001b[0m)       │                   │            │ global_average_p… │\n",
       "├─────────────────────┼───────────────────┼────────────┼───────────────────┤\n",
       "│ dense (\u001b[38;5;33mDense\u001b[0m)       │ (\u001b[38;5;45mNone\u001b[0m, \u001b[38;5;34m128\u001b[0m)       │     \u001b[38;5;34m65,664\u001b[0m │ concatenate[\u001b[38;5;34m0\u001b[0m][\u001b[38;5;34m0\u001b[0m] │\n",
       "├─────────────────────┼───────────────────┼────────────┼───────────────────┤\n",
       "│ dropout_1 (\u001b[38;5;33mDropout\u001b[0m) │ (\u001b[38;5;45mNone\u001b[0m, \u001b[38;5;34m128\u001b[0m)       │          \u001b[38;5;34m0\u001b[0m │ dense[\u001b[38;5;34m0\u001b[0m][\u001b[38;5;34m0\u001b[0m]       │\n",
       "├─────────────────────┼───────────────────┼────────────┼───────────────────┤\n",
       "│ dense_1 (\u001b[38;5;33mDense\u001b[0m)     │ (\u001b[38;5;45mNone\u001b[0m, \u001b[38;5;34m16\u001b[0m)        │      \u001b[38;5;34m2,064\u001b[0m │ dropout_1[\u001b[38;5;34m0\u001b[0m][\u001b[38;5;34m0\u001b[0m]   │\n",
       "└─────────────────────┴───────────────────┴────────────┴───────────────────┘\n"
      ]
     },
     "metadata": {},
     "output_type": "display_data"
    },
    {
     "data": {
      "text/html": [
       "<pre style=\"white-space:pre;overflow-x:auto;line-height:normal;font-family:Menlo,'DejaVu Sans Mono',consolas,'Courier New',monospace\"><span style=\"font-weight: bold\"> Total params: </span><span style=\"color: #00af00; text-decoration-color: #00af00\">522,384</span> (1.99 MB)\n",
       "</pre>\n"
      ],
      "text/plain": [
       "\u001b[1m Total params: \u001b[0m\u001b[38;5;34m522,384\u001b[0m (1.99 MB)\n"
      ]
     },
     "metadata": {},
     "output_type": "display_data"
    },
    {
     "data": {
      "text/html": [
       "<pre style=\"white-space:pre;overflow-x:auto;line-height:normal;font-family:Menlo,'DejaVu Sans Mono',consolas,'Courier New',monospace\"><span style=\"font-weight: bold\"> Trainable params: </span><span style=\"color: #00af00; text-decoration-color: #00af00\">522,384</span> (1.99 MB)\n",
       "</pre>\n"
      ],
      "text/plain": [
       "\u001b[1m Trainable params: \u001b[0m\u001b[38;5;34m522,384\u001b[0m (1.99 MB)\n"
      ]
     },
     "metadata": {},
     "output_type": "display_data"
    },
    {
     "data": {
      "text/html": [
       "<pre style=\"white-space:pre;overflow-x:auto;line-height:normal;font-family:Menlo,'DejaVu Sans Mono',consolas,'Courier New',monospace\"><span style=\"font-weight: bold\"> Non-trainable params: </span><span style=\"color: #00af00; text-decoration-color: #00af00\">0</span> (0.00 B)\n",
       "</pre>\n"
      ],
      "text/plain": [
       "\u001b[1m Non-trainable params: \u001b[0m\u001b[38;5;34m0\u001b[0m (0.00 B)\n"
      ]
     },
     "metadata": {},
     "output_type": "display_data"
    }
   ],
   "source": [
    "# Modelo funcional com arquitetura aprimorada\n",
    "inp = Input(shape=(max_length,), dtype='int32')\n",
    "\n",
    "# Camada de Embedding\n",
    "emb = Embedding(input_dim=vocab_size, output_dim=embedding_dim, input_length=max_length)(inp)\n",
    "\n",
    "# Primeira camada convolucional\n",
    "conv1 = Conv1D(128, kernel_size=3, activation='relu', padding='same')(emb)\n",
    "conv1 = MaxPooling1D(pool_size=2)(conv1)\n",
    "\n",
    "# Segunda camada convolucional\n",
    "conv2 = Conv1D(128, kernel_size=5, activation='relu', padding='same')(conv1)\n",
    "conv2 = MaxPooling1D(pool_size=2)(conv2)\n",
    "\n",
    "# Dropout para regularização\n",
    "drop1 = Dropout(0.3)(conv2)\n",
    "\n",
    "# LSTM Bidirecional com return_sequences para pooling\n",
    "lstm = Bidirectional(LSTM(128, return_sequences=True))(drop1)\n",
    "\n",
    "# Combinar Global Max Pooling e Global Average Pooling\n",
    "pool_max = GlobalMaxPooling1D()(lstm)\n",
    "pool_avg = GlobalAveragePooling1D()(lstm)\n",
    "concat = Concatenate()([pool_max, pool_avg])\n",
    "\n",
    "# Camadas densas\n",
    "dense1 = Dense(128, activation='relu')(concat)\n",
    "drop2 = Dropout(0.4)(dense1)\n",
    "\n",
    "# Camada de saída\n",
    "out = Dense(num_classes, activation='softmax')(drop2)\n",
    "\n",
    "# Criar o modelo\n",
    "model = Model(inputs=inp, outputs=out)\n",
    "\n",
    "# Compilar com taxa de aprendizado customizada\n",
    "model.compile(\n",
    "    optimizer=tf.keras.optimizers.Adam(learning_rate=1e-3),\n",
    "    loss='sparse_categorical_crossentropy',\n",
    "    metrics=['accuracy']\n",
    ")\n",
    "\n",
    "model.summary()"
   ]
  },
  {
   "cell_type": "markdown",
   "id": "e6a1cf9e",
   "metadata": {},
   "source": [
    "### 7. Treinamento do Modelo com Callbacks Avançados\n",
    "\n",
    "Callbacks utilizados:\n",
    "- **EarlyStopping**: Para interromper quando não houver melhora\n",
    "- **ReduceLROnPlateau**: Reduz a taxa de aprendizado quando a perda estabiliza\n",
    "- **ModelCheckpoint**: Salva o melhor modelo automaticamente\n",
    "\n",
    "Também utilizamos **class weights** para balancear classes desbalanceadas."
   ]
  },
  {
   "cell_type": "code",
   "execution_count": 8,
   "id": "1cb189aa",
   "metadata": {},
   "outputs": [
    {
     "name": "stdout",
     "output_type": "stream",
     "text": [
      "Class weights calculados para 16 classes\n",
      "Epoch 1/50\n",
      "\n",
      "Epoch 1: val_loss improved from None to 2.76871, saving model to best_model_v4.h5\n"
     ]
    },
    {
     "name": "stderr",
     "output_type": "stream",
     "text": [
      "WARNING:absl:You are saving your model as an HDF5 file via `model.save()` or `keras.saving.save_model(model)`. This file format is considered legacy. We recommend using instead the native Keras format, e.g. `model.save('my_model.keras')` or `keras.saving.save_model(model, 'my_model.keras')`. \n"
     ]
    },
    {
     "name": "stdout",
     "output_type": "stream",
     "text": [
      "31/31 - 3s - 99ms/step - accuracy: 0.0608 - loss: 2.7748 - val_accuracy: 0.0645 - val_loss: 2.7687 - learning_rate: 1.0000e-03\n",
      "Epoch 2/50\n",
      "\n",
      "Epoch 2: val_loss improved from 2.76871 to 2.35999, saving model to best_model_v4.h5\n"
     ]
    },
    {
     "name": "stderr",
     "output_type": "stream",
     "text": [
      "WARNING:absl:You are saving your model as an HDF5 file via `model.save()` or `keras.saving.save_model(model)`. This file format is considered legacy. We recommend using instead the native Keras format, e.g. `model.save('my_model.keras')` or `keras.saving.save_model(model, 'my_model.keras')`. \n"
     ]
    },
    {
     "name": "stdout",
     "output_type": "stream",
     "text": [
      "31/31 - 1s - 19ms/step - accuracy: 0.1504 - loss: 2.6446 - val_accuracy: 0.2473 - val_loss: 2.3600 - learning_rate: 1.0000e-03\n",
      "Epoch 3/50\n",
      "\n",
      "Epoch 3: val_loss improved from 2.35999 to 1.48062, saving model to best_model_v4.h5\n"
     ]
    },
    {
     "name": "stderr",
     "output_type": "stream",
     "text": [
      "WARNING:absl:You are saving your model as an HDF5 file via `model.save()` or `keras.saving.save_model(model)`. This file format is considered legacy. We recommend using instead the native Keras format, e.g. `model.save('my_model.keras')` or `keras.saving.save_model(model, 'my_model.keras')`. \n"
     ]
    },
    {
     "name": "stdout",
     "output_type": "stream",
     "text": [
      "31/31 - 1s - 18ms/step - accuracy: 0.3811 - loss: 1.9210 - val_accuracy: 0.4839 - val_loss: 1.4806 - learning_rate: 1.0000e-03\n",
      "Epoch 4/50\n",
      "\n",
      "Epoch 4: val_loss improved from 1.48062 to 0.91684, saving model to best_model_v4.h5\n"
     ]
    },
    {
     "name": "stderr",
     "output_type": "stream",
     "text": [
      "WARNING:absl:You are saving your model as an HDF5 file via `model.save()` or `keras.saving.save_model(model)`. This file format is considered legacy. We recommend using instead the native Keras format, e.g. `model.save('my_model.keras')` or `keras.saving.save_model(model, 'my_model.keras')`. \n"
     ]
    },
    {
     "name": "stdout",
     "output_type": "stream",
     "text": [
      "31/31 - 1s - 18ms/step - accuracy: 0.6550 - loss: 1.1929 - val_accuracy: 0.6667 - val_loss: 0.9168 - learning_rate: 1.0000e-03\n",
      "Epoch 5/50\n",
      "\n",
      "Epoch 5: val_loss improved from 0.91684 to 0.56065, saving model to best_model_v4.h5\n"
     ]
    },
    {
     "name": "stderr",
     "output_type": "stream",
     "text": [
      "WARNING:absl:You are saving your model as an HDF5 file via `model.save()` or `keras.saving.save_model(model)`. This file format is considered legacy. We recommend using instead the native Keras format, e.g. `model.save('my_model.keras')` or `keras.saving.save_model(model, 'my_model.keras')`. \n"
     ]
    },
    {
     "name": "stdout",
     "output_type": "stream",
     "text": [
      "31/31 - 1s - 18ms/step - accuracy: 0.7858 - loss: 0.7291 - val_accuracy: 0.8280 - val_loss: 0.5607 - learning_rate: 1.0000e-03\n",
      "Epoch 6/50\n",
      "\n",
      "Epoch 6: val_loss improved from 0.56065 to 0.36899, saving model to best_model_v4.h5\n"
     ]
    },
    {
     "name": "stderr",
     "output_type": "stream",
     "text": [
      "WARNING:absl:You are saving your model as an HDF5 file via `model.save()` or `keras.saving.save_model(model)`. This file format is considered legacy. We recommend using instead the native Keras format, e.g. `model.save('my_model.keras')` or `keras.saving.save_model(model, 'my_model.keras')`. \n"
     ]
    },
    {
     "name": "stdout",
     "output_type": "stream",
     "text": [
      "31/31 - 1s - 18ms/step - accuracy: 0.8620 - loss: 0.4862 - val_accuracy: 0.8925 - val_loss: 0.3690 - learning_rate: 1.0000e-03\n",
      "Epoch 7/50\n",
      "\n",
      "Epoch 7: val_loss improved from 0.36899 to 0.23022, saving model to best_model_v4.h5\n"
     ]
    },
    {
     "name": "stderr",
     "output_type": "stream",
     "text": [
      "WARNING:absl:You are saving your model as an HDF5 file via `model.save()` or `keras.saving.save_model(model)`. This file format is considered legacy. We recommend using instead the native Keras format, e.g. `model.save('my_model.keras')` or `keras.saving.save_model(model, 'my_model.keras')`. \n"
     ]
    },
    {
     "name": "stdout",
     "output_type": "stream",
     "text": [
      "31/31 - 1s - 17ms/step - accuracy: 0.9176 - loss: 0.2887 - val_accuracy: 0.9355 - val_loss: 0.2302 - learning_rate: 1.0000e-03\n",
      "Epoch 8/50\n",
      "\n",
      "Epoch 8: val_loss improved from 0.23022 to 0.09480, saving model to best_model_v4.h5\n"
     ]
    },
    {
     "name": "stderr",
     "output_type": "stream",
     "text": [
      "WARNING:absl:You are saving your model as an HDF5 file via `model.save()` or `keras.saving.save_model(model)`. This file format is considered legacy. We recommend using instead the native Keras format, e.g. `model.save('my_model.keras')` or `keras.saving.save_model(model, 'my_model.keras')`. \n"
     ]
    },
    {
     "name": "stdout",
     "output_type": "stream",
     "text": [
      "31/31 - 1s - 18ms/step - accuracy: 0.9557 - loss: 0.1967 - val_accuracy: 0.9892 - val_loss: 0.0948 - learning_rate: 1.0000e-03\n",
      "Epoch 9/50\n",
      "\n",
      "Epoch 9: val_loss improved from 0.09480 to 0.09209, saving model to best_model_v4.h5\n"
     ]
    },
    {
     "name": "stderr",
     "output_type": "stream",
     "text": [
      "WARNING:absl:You are saving your model as an HDF5 file via `model.save()` or `keras.saving.save_model(model)`. This file format is considered legacy. We recommend using instead the native Keras format, e.g. `model.save('my_model.keras')` or `keras.saving.save_model(model, 'my_model.keras')`. \n"
     ]
    },
    {
     "name": "stdout",
     "output_type": "stream",
     "text": [
      "31/31 - 1s - 19ms/step - accuracy: 0.9537 - loss: 0.1496 - val_accuracy: 0.9785 - val_loss: 0.0921 - learning_rate: 1.0000e-03\n",
      "Epoch 10/50\n",
      "\n",
      "Epoch 10: val_loss improved from 0.09209 to 0.08455, saving model to best_model_v4.h5\n"
     ]
    },
    {
     "name": "stderr",
     "output_type": "stream",
     "text": [
      "WARNING:absl:You are saving your model as an HDF5 file via `model.save()` or `keras.saving.save_model(model)`. This file format is considered legacy. We recommend using instead the native Keras format, e.g. `model.save('my_model.keras')` or `keras.saving.save_model(model, 'my_model.keras')`. \n"
     ]
    },
    {
     "name": "stdout",
     "output_type": "stream",
     "text": [
      "31/31 - 1s - 21ms/step - accuracy: 0.9681 - loss: 0.1206 - val_accuracy: 0.9570 - val_loss: 0.0845 - learning_rate: 1.0000e-03\n",
      "Epoch 11/50\n",
      "\n",
      "Epoch 11: val_loss improved from 0.08455 to 0.04691, saving model to best_model_v4.h5\n"
     ]
    },
    {
     "name": "stderr",
     "output_type": "stream",
     "text": [
      "WARNING:absl:You are saving your model as an HDF5 file via `model.save()` or `keras.saving.save_model(model)`. This file format is considered legacy. We recommend using instead the native Keras format, e.g. `model.save('my_model.keras')` or `keras.saving.save_model(model, 'my_model.keras')`. \n"
     ]
    },
    {
     "name": "stdout",
     "output_type": "stream",
     "text": [
      "31/31 - 1s - 20ms/step - accuracy: 0.9753 - loss: 0.0938 - val_accuracy: 0.9892 - val_loss: 0.0469 - learning_rate: 1.0000e-03\n",
      "Epoch 12/50\n",
      "\n",
      "Epoch 12: val_loss improved from 0.04691 to 0.02868, saving model to best_model_v4.h5\n"
     ]
    },
    {
     "name": "stderr",
     "output_type": "stream",
     "text": [
      "WARNING:absl:You are saving your model as an HDF5 file via `model.save()` or `keras.saving.save_model(model)`. This file format is considered legacy. We recommend using instead the native Keras format, e.g. `model.save('my_model.keras')` or `keras.saving.save_model(model, 'my_model.keras')`. \n"
     ]
    },
    {
     "name": "stdout",
     "output_type": "stream",
     "text": [
      "31/31 - 1s - 19ms/step - accuracy: 0.9887 - loss: 0.0493 - val_accuracy: 0.9892 - val_loss: 0.0287 - learning_rate: 1.0000e-03\n",
      "Epoch 13/50\n",
      "\n",
      "Epoch 13: val_loss improved from 0.02868 to 0.01473, saving model to best_model_v4.h5\n"
     ]
    },
    {
     "name": "stderr",
     "output_type": "stream",
     "text": [
      "WARNING:absl:You are saving your model as an HDF5 file via `model.save()` or `keras.saving.save_model(model)`. This file format is considered legacy. We recommend using instead the native Keras format, e.g. `model.save('my_model.keras')` or `keras.saving.save_model(model, 'my_model.keras')`. \n"
     ]
    },
    {
     "name": "stdout",
     "output_type": "stream",
     "text": [
      "31/31 - 1s - 19ms/step - accuracy: 0.9835 - loss: 0.0672 - val_accuracy: 1.0000 - val_loss: 0.0147 - learning_rate: 1.0000e-03\n",
      "Epoch 14/50\n",
      "\n",
      "Epoch 14: val_loss did not improve from 0.01473\n",
      "31/31 - 1s - 18ms/step - accuracy: 0.9773 - loss: 0.0796 - val_accuracy: 0.9785 - val_loss: 0.0524 - learning_rate: 1.0000e-03\n",
      "Epoch 15/50\n",
      "\n",
      "Epoch 15: val_loss improved from 0.01473 to 0.01260, saving model to best_model_v4.h5\n"
     ]
    },
    {
     "name": "stderr",
     "output_type": "stream",
     "text": [
      "WARNING:absl:You are saving your model as an HDF5 file via `model.save()` or `keras.saving.save_model(model)`. This file format is considered legacy. We recommend using instead the native Keras format, e.g. `model.save('my_model.keras')` or `keras.saving.save_model(model, 'my_model.keras')`. \n"
     ]
    },
    {
     "name": "stdout",
     "output_type": "stream",
     "text": [
      "31/31 - 1s - 18ms/step - accuracy: 0.9835 - loss: 0.0512 - val_accuracy: 1.0000 - val_loss: 0.0126 - learning_rate: 1.0000e-03\n",
      "Epoch 16/50\n",
      "\n",
      "Epoch 16: val_loss did not improve from 0.01260\n",
      "31/31 - 1s - 18ms/step - accuracy: 0.9866 - loss: 0.0530 - val_accuracy: 0.9892 - val_loss: 0.0481 - learning_rate: 1.0000e-03\n",
      "Epoch 17/50\n",
      "\n",
      "Epoch 17: val_loss improved from 0.01260 to 0.01100, saving model to best_model_v4.h5\n"
     ]
    },
    {
     "name": "stderr",
     "output_type": "stream",
     "text": [
      "WARNING:absl:You are saving your model as an HDF5 file via `model.save()` or `keras.saving.save_model(model)`. This file format is considered legacy. We recommend using instead the native Keras format, e.g. `model.save('my_model.keras')` or `keras.saving.save_model(model, 'my_model.keras')`. \n"
     ]
    },
    {
     "name": "stdout",
     "output_type": "stream",
     "text": [
      "31/31 - 1s - 19ms/step - accuracy: 0.9897 - loss: 0.0299 - val_accuracy: 0.9892 - val_loss: 0.0110 - learning_rate: 1.0000e-03\n",
      "Epoch 18/50\n",
      "\n",
      "Epoch 18: val_loss did not improve from 0.01100\n",
      "31/31 - 1s - 17ms/step - accuracy: 0.9918 - loss: 0.0339 - val_accuracy: 0.9785 - val_loss: 0.0336 - learning_rate: 1.0000e-03\n",
      "Epoch 19/50\n",
      "\n",
      "Epoch 19: val_loss improved from 0.01100 to 0.00647, saving model to best_model_v4.h5\n"
     ]
    },
    {
     "name": "stderr",
     "output_type": "stream",
     "text": [
      "WARNING:absl:You are saving your model as an HDF5 file via `model.save()` or `keras.saving.save_model(model)`. This file format is considered legacy. We recommend using instead the native Keras format, e.g. `model.save('my_model.keras')` or `keras.saving.save_model(model, 'my_model.keras')`. \n"
     ]
    },
    {
     "name": "stdout",
     "output_type": "stream",
     "text": [
      "31/31 - 1s - 21ms/step - accuracy: 0.9804 - loss: 0.0507 - val_accuracy: 1.0000 - val_loss: 0.0065 - learning_rate: 1.0000e-03\n",
      "Epoch 20/50\n",
      "\n",
      "Epoch 20: val_loss did not improve from 0.00647\n",
      "31/31 - 1s - 18ms/step - accuracy: 0.9887 - loss: 0.0364 - val_accuracy: 0.9892 - val_loss: 0.0539 - learning_rate: 1.0000e-03\n",
      "Epoch 21/50\n",
      "\n",
      "Epoch 21: val_loss improved from 0.00647 to 0.00567, saving model to best_model_v4.h5\n"
     ]
    },
    {
     "name": "stderr",
     "output_type": "stream",
     "text": [
      "WARNING:absl:You are saving your model as an HDF5 file via `model.save()` or `keras.saving.save_model(model)`. This file format is considered legacy. We recommend using instead the native Keras format, e.g. `model.save('my_model.keras')` or `keras.saving.save_model(model, 'my_model.keras')`. \n"
     ]
    },
    {
     "name": "stdout",
     "output_type": "stream",
     "text": [
      "31/31 - 1s - 21ms/step - accuracy: 0.9825 - loss: 0.0469 - val_accuracy: 1.0000 - val_loss: 0.0057 - learning_rate: 1.0000e-03\n",
      "Epoch 22/50\n",
      "\n",
      "Epoch 22: val_loss did not improve from 0.00567\n",
      "31/31 - 1s - 19ms/step - accuracy: 0.9835 - loss: 0.0582 - val_accuracy: 1.0000 - val_loss: 0.0106 - learning_rate: 1.0000e-03\n",
      "Epoch 23/50\n",
      "\n",
      "Epoch 23: val_loss improved from 0.00567 to 0.00355, saving model to best_model_v4.h5\n"
     ]
    },
    {
     "name": "stderr",
     "output_type": "stream",
     "text": [
      "WARNING:absl:You are saving your model as an HDF5 file via `model.save()` or `keras.saving.save_model(model)`. This file format is considered legacy. We recommend using instead the native Keras format, e.g. `model.save('my_model.keras')` or `keras.saving.save_model(model, 'my_model.keras')`. \n"
     ]
    },
    {
     "name": "stdout",
     "output_type": "stream",
     "text": [
      "31/31 - 1s - 19ms/step - accuracy: 0.9763 - loss: 0.1016 - val_accuracy: 1.0000 - val_loss: 0.0036 - learning_rate: 1.0000e-03\n",
      "Epoch 24/50\n",
      "\n",
      "Epoch 24: val_loss did not improve from 0.00355\n",
      "31/31 - 1s - 19ms/step - accuracy: 0.9619 - loss: 0.1919 - val_accuracy: 0.9677 - val_loss: 0.0741 - learning_rate: 1.0000e-03\n",
      "Epoch 25/50\n",
      "\n",
      "Epoch 25: ReduceLROnPlateau reducing learning rate to 0.0005000000237487257.\n",
      "\n",
      "Epoch 25: val_loss did not improve from 0.00355\n",
      "31/31 - 1s - 17ms/step - accuracy: 0.9691 - loss: 0.1046 - val_accuracy: 1.0000 - val_loss: 0.0065 - learning_rate: 1.0000e-03\n",
      "Epoch 26/50\n",
      "\n",
      "Epoch 26: val_loss did not improve from 0.00355\n",
      "31/31 - 1s - 17ms/step - accuracy: 0.9918 - loss: 0.0314 - val_accuracy: 1.0000 - val_loss: 0.0046 - learning_rate: 5.0000e-04\n",
      "Epoch 27/50\n",
      "\n",
      "Epoch 27: val_loss improved from 0.00355 to 0.00321, saving model to best_model_v4.h5\n"
     ]
    },
    {
     "name": "stderr",
     "output_type": "stream",
     "text": [
      "WARNING:absl:You are saving your model as an HDF5 file via `model.save()` or `keras.saving.save_model(model)`. This file format is considered legacy. We recommend using instead the native Keras format, e.g. `model.save('my_model.keras')` or `keras.saving.save_model(model, 'my_model.keras')`. \n"
     ]
    },
    {
     "name": "stdout",
     "output_type": "stream",
     "text": [
      "31/31 - 1s - 18ms/step - accuracy: 0.9897 - loss: 0.0259 - val_accuracy: 1.0000 - val_loss: 0.0032 - learning_rate: 5.0000e-04\n",
      "Epoch 28/50\n",
      "\n",
      "Epoch 28: val_loss improved from 0.00321 to 0.00180, saving model to best_model_v4.h5\n"
     ]
    },
    {
     "name": "stderr",
     "output_type": "stream",
     "text": [
      "WARNING:absl:You are saving your model as an HDF5 file via `model.save()` or `keras.saving.save_model(model)`. This file format is considered legacy. We recommend using instead the native Keras format, e.g. `model.save('my_model.keras')` or `keras.saving.save_model(model, 'my_model.keras')`. \n"
     ]
    },
    {
     "name": "stdout",
     "output_type": "stream",
     "text": [
      "31/31 - 1s - 19ms/step - accuracy: 0.9949 - loss: 0.0180 - val_accuracy: 1.0000 - val_loss: 0.0018 - learning_rate: 5.0000e-04\n",
      "Epoch 29/50\n",
      "\n",
      "Epoch 29: val_loss improved from 0.00180 to 0.00154, saving model to best_model_v4.h5\n"
     ]
    },
    {
     "name": "stderr",
     "output_type": "stream",
     "text": [
      "WARNING:absl:You are saving your model as an HDF5 file via `model.save()` or `keras.saving.save_model(model)`. This file format is considered legacy. We recommend using instead the native Keras format, e.g. `model.save('my_model.keras')` or `keras.saving.save_model(model, 'my_model.keras')`. \n"
     ]
    },
    {
     "name": "stdout",
     "output_type": "stream",
     "text": [
      "31/31 - 1s - 18ms/step - accuracy: 0.9959 - loss: 0.0153 - val_accuracy: 1.0000 - val_loss: 0.0015 - learning_rate: 5.0000e-04\n",
      "Epoch 30/50\n",
      "\n",
      "Epoch 30: val_loss improved from 0.00154 to 0.00133, saving model to best_model_v4.h5\n"
     ]
    },
    {
     "name": "stderr",
     "output_type": "stream",
     "text": [
      "WARNING:absl:You are saving your model as an HDF5 file via `model.save()` or `keras.saving.save_model(model)`. This file format is considered legacy. We recommend using instead the native Keras format, e.g. `model.save('my_model.keras')` or `keras.saving.save_model(model, 'my_model.keras')`. \n"
     ]
    },
    {
     "name": "stdout",
     "output_type": "stream",
     "text": [
      "31/31 - 1s - 19ms/step - accuracy: 0.9938 - loss: 0.0174 - val_accuracy: 1.0000 - val_loss: 0.0013 - learning_rate: 5.0000e-04\n",
      "Epoch 31/50\n",
      "\n",
      "Epoch 31: val_loss did not improve from 0.00133\n",
      "31/31 - 1s - 19ms/step - accuracy: 0.9959 - loss: 0.0145 - val_accuracy: 1.0000 - val_loss: 0.0015 - learning_rate: 5.0000e-04\n",
      "Epoch 32/50\n",
      "\n",
      "Epoch 32: ReduceLROnPlateau reducing learning rate to 0.0002500000118743628.\n",
      "\n",
      "Epoch 32: val_loss improved from 0.00133 to 0.00130, saving model to best_model_v4.h5\n"
     ]
    },
    {
     "name": "stderr",
     "output_type": "stream",
     "text": [
      "WARNING:absl:You are saving your model as an HDF5 file via `model.save()` or `keras.saving.save_model(model)`. This file format is considered legacy. We recommend using instead the native Keras format, e.g. `model.save('my_model.keras')` or `keras.saving.save_model(model, 'my_model.keras')`. \n"
     ]
    },
    {
     "name": "stdout",
     "output_type": "stream",
     "text": [
      "31/31 - 1s - 19ms/step - accuracy: 0.9969 - loss: 0.0094 - val_accuracy: 1.0000 - val_loss: 0.0013 - learning_rate: 5.0000e-04\n",
      "Epoch 33/50\n",
      "\n",
      "Epoch 33: val_loss improved from 0.00130 to 0.00067, saving model to best_model_v4.h5\n"
     ]
    },
    {
     "name": "stderr",
     "output_type": "stream",
     "text": [
      "WARNING:absl:You are saving your model as an HDF5 file via `model.save()` or `keras.saving.save_model(model)`. This file format is considered legacy. We recommend using instead the native Keras format, e.g. `model.save('my_model.keras')` or `keras.saving.save_model(model, 'my_model.keras')`. \n"
     ]
    },
    {
     "name": "stdout",
     "output_type": "stream",
     "text": [
      "31/31 - 1s - 20ms/step - accuracy: 0.9949 - loss: 0.0118 - val_accuracy: 1.0000 - val_loss: 6.6868e-04 - learning_rate: 2.5000e-04\n",
      "Epoch 34/50\n",
      "\n",
      "Epoch 34: val_loss improved from 0.00067 to 0.00057, saving model to best_model_v4.h5\n"
     ]
    },
    {
     "name": "stderr",
     "output_type": "stream",
     "text": [
      "WARNING:absl:You are saving your model as an HDF5 file via `model.save()` or `keras.saving.save_model(model)`. This file format is considered legacy. We recommend using instead the native Keras format, e.g. `model.save('my_model.keras')` or `keras.saving.save_model(model, 'my_model.keras')`. \n"
     ]
    },
    {
     "name": "stdout",
     "output_type": "stream",
     "text": [
      "31/31 - 1s - 19ms/step - accuracy: 0.9969 - loss: 0.0121 - val_accuracy: 1.0000 - val_loss: 5.6604e-04 - learning_rate: 2.5000e-04\n",
      "Epoch 35/50\n",
      "\n",
      "Epoch 35: val_loss improved from 0.00057 to 0.00055, saving model to best_model_v4.h5\n"
     ]
    },
    {
     "name": "stderr",
     "output_type": "stream",
     "text": [
      "WARNING:absl:You are saving your model as an HDF5 file via `model.save()` or `keras.saving.save_model(model)`. This file format is considered legacy. We recommend using instead the native Keras format, e.g. `model.save('my_model.keras')` or `keras.saving.save_model(model, 'my_model.keras')`. \n"
     ]
    },
    {
     "name": "stdout",
     "output_type": "stream",
     "text": [
      "31/31 - 1s - 20ms/step - accuracy: 0.9959 - loss: 0.0107 - val_accuracy: 1.0000 - val_loss: 5.5471e-04 - learning_rate: 2.5000e-04\n",
      "Epoch 36/50\n",
      "\n",
      "Epoch 36: ReduceLROnPlateau reducing learning rate to 0.0001250000059371814.\n",
      "\n",
      "Epoch 36: val_loss improved from 0.00055 to 0.00051, saving model to best_model_v4.h5\n"
     ]
    },
    {
     "name": "stderr",
     "output_type": "stream",
     "text": [
      "WARNING:absl:You are saving your model as an HDF5 file via `model.save()` or `keras.saving.save_model(model)`. This file format is considered legacy. We recommend using instead the native Keras format, e.g. `model.save('my_model.keras')` or `keras.saving.save_model(model, 'my_model.keras')`. \n"
     ]
    },
    {
     "name": "stdout",
     "output_type": "stream",
     "text": [
      "31/31 - 1s - 21ms/step - accuracy: 0.9969 - loss: 0.0110 - val_accuracy: 1.0000 - val_loss: 5.0605e-04 - learning_rate: 2.5000e-04\n",
      "Epoch 37/50\n",
      "\n",
      "Epoch 37: val_loss improved from 0.00051 to 0.00049, saving model to best_model_v4.h5\n"
     ]
    },
    {
     "name": "stderr",
     "output_type": "stream",
     "text": [
      "WARNING:absl:You are saving your model as an HDF5 file via `model.save()` or `keras.saving.save_model(model)`. This file format is considered legacy. We recommend using instead the native Keras format, e.g. `model.save('my_model.keras')` or `keras.saving.save_model(model, 'my_model.keras')`. \n"
     ]
    },
    {
     "name": "stdout",
     "output_type": "stream",
     "text": [
      "31/31 - 1s - 19ms/step - accuracy: 0.9969 - loss: 0.0099 - val_accuracy: 1.0000 - val_loss: 4.8772e-04 - learning_rate: 1.2500e-04\n",
      "Epoch 38/50\n",
      "\n",
      "Epoch 38: ReduceLROnPlateau reducing learning rate to 6.25000029685907e-05.\n",
      "\n",
      "Epoch 38: val_loss improved from 0.00049 to 0.00048, saving model to best_model_v4.h5\n"
     ]
    },
    {
     "name": "stderr",
     "output_type": "stream",
     "text": [
      "WARNING:absl:You are saving your model as an HDF5 file via `model.save()` or `keras.saving.save_model(model)`. This file format is considered legacy. We recommend using instead the native Keras format, e.g. `model.save('my_model.keras')` or `keras.saving.save_model(model, 'my_model.keras')`. \n"
     ]
    },
    {
     "name": "stdout",
     "output_type": "stream",
     "text": [
      "31/31 - 1s - 21ms/step - accuracy: 0.9959 - loss: 0.0110 - val_accuracy: 1.0000 - val_loss: 4.8086e-04 - learning_rate: 1.2500e-04\n",
      "Epoch 39/50\n",
      "\n",
      "Epoch 39: val_loss improved from 0.00048 to 0.00047, saving model to best_model_v4.h5\n"
     ]
    },
    {
     "name": "stderr",
     "output_type": "stream",
     "text": [
      "WARNING:absl:You are saving your model as an HDF5 file via `model.save()` or `keras.saving.save_model(model)`. This file format is considered legacy. We recommend using instead the native Keras format, e.g. `model.save('my_model.keras')` or `keras.saving.save_model(model, 'my_model.keras')`. \n"
     ]
    },
    {
     "name": "stdout",
     "output_type": "stream",
     "text": [
      "31/31 - 1s - 19ms/step - accuracy: 0.9979 - loss: 0.0094 - val_accuracy: 1.0000 - val_loss: 4.7491e-04 - learning_rate: 6.2500e-05\n",
      "Epoch 40/50\n",
      "\n",
      "Epoch 40: val_loss improved from 0.00047 to 0.00046, saving model to best_model_v4.h5\n"
     ]
    },
    {
     "name": "stderr",
     "output_type": "stream",
     "text": [
      "WARNING:absl:You are saving your model as an HDF5 file via `model.save()` or `keras.saving.save_model(model)`. This file format is considered legacy. We recommend using instead the native Keras format, e.g. `model.save('my_model.keras')` or `keras.saving.save_model(model, 'my_model.keras')`. \n"
     ]
    },
    {
     "name": "stdout",
     "output_type": "stream",
     "text": [
      "31/31 - 1s - 20ms/step - accuracy: 0.9979 - loss: 0.0101 - val_accuracy: 1.0000 - val_loss: 4.6461e-04 - learning_rate: 6.2500e-05\n",
      "Epoch 41/50\n",
      "\n",
      "Epoch 41: val_loss improved from 0.00046 to 0.00046, saving model to best_model_v4.h5\n"
     ]
    },
    {
     "name": "stderr",
     "output_type": "stream",
     "text": [
      "WARNING:absl:You are saving your model as an HDF5 file via `model.save()` or `keras.saving.save_model(model)`. This file format is considered legacy. We recommend using instead the native Keras format, e.g. `model.save('my_model.keras')` or `keras.saving.save_model(model, 'my_model.keras')`. \n"
     ]
    },
    {
     "name": "stdout",
     "output_type": "stream",
     "text": [
      "31/31 - 1s - 19ms/step - accuracy: 0.9949 - loss: 0.0098 - val_accuracy: 1.0000 - val_loss: 4.5730e-04 - learning_rate: 6.2500e-05\n",
      "Epoch 42/50\n",
      "\n",
      "Epoch 42: ReduceLROnPlateau reducing learning rate to 3.125000148429535e-05.\n",
      "\n",
      "Epoch 42: val_loss did not improve from 0.00046\n",
      "31/31 - 1s - 19ms/step - accuracy: 0.9949 - loss: 0.0127 - val_accuracy: 1.0000 - val_loss: 4.6319e-04 - learning_rate: 6.2500e-05\n",
      "Epoch 43/50\n",
      "\n",
      "Epoch 43: val_loss did not improve from 0.00046\n",
      "31/31 - 1s - 17ms/step - accuracy: 0.9969 - loss: 0.0092 - val_accuracy: 1.0000 - val_loss: 4.5917e-04 - learning_rate: 3.1250e-05\n",
      "Epoch 44/50\n",
      "\n",
      "Epoch 44: ReduceLROnPlateau reducing learning rate to 1.5625000742147677e-05.\n",
      "\n",
      "Epoch 44: val_loss improved from 0.00046 to 0.00045, saving model to best_model_v4.h5\n"
     ]
    },
    {
     "name": "stderr",
     "output_type": "stream",
     "text": [
      "WARNING:absl:You are saving your model as an HDF5 file via `model.save()` or `keras.saving.save_model(model)`. This file format is considered legacy. We recommend using instead the native Keras format, e.g. `model.save('my_model.keras')` or `keras.saving.save_model(model, 'my_model.keras')`. \n"
     ]
    },
    {
     "name": "stdout",
     "output_type": "stream",
     "text": [
      "31/31 - 1s - 19ms/step - accuracy: 0.9979 - loss: 0.0087 - val_accuracy: 1.0000 - val_loss: 4.5495e-04 - learning_rate: 3.1250e-05\n",
      "Epoch 45/50\n",
      "\n",
      "Epoch 45: val_loss improved from 0.00045 to 0.00045, saving model to best_model_v4.h5\n"
     ]
    },
    {
     "name": "stderr",
     "output_type": "stream",
     "text": [
      "WARNING:absl:You are saving your model as an HDF5 file via `model.save()` or `keras.saving.save_model(model)`. This file format is considered legacy. We recommend using instead the native Keras format, e.g. `model.save('my_model.keras')` or `keras.saving.save_model(model, 'my_model.keras')`. \n"
     ]
    },
    {
     "name": "stdout",
     "output_type": "stream",
     "text": [
      "31/31 - 1s - 18ms/step - accuracy: 0.9969 - loss: 0.0119 - val_accuracy: 1.0000 - val_loss: 4.5284e-04 - learning_rate: 1.5625e-05\n",
      "Epoch 46/50\n",
      "\n",
      "Epoch 46: ReduceLROnPlateau reducing learning rate to 7.812500371073838e-06.\n",
      "\n",
      "Epoch 46: val_loss improved from 0.00045 to 0.00045, saving model to best_model_v4.h5\n"
     ]
    },
    {
     "name": "stderr",
     "output_type": "stream",
     "text": [
      "WARNING:absl:You are saving your model as an HDF5 file via `model.save()` or `keras.saving.save_model(model)`. This file format is considered legacy. We recommend using instead the native Keras format, e.g. `model.save('my_model.keras')` or `keras.saving.save_model(model, 'my_model.keras')`. \n"
     ]
    },
    {
     "name": "stdout",
     "output_type": "stream",
     "text": [
      "31/31 - 1s - 19ms/step - accuracy: 0.9959 - loss: 0.0108 - val_accuracy: 1.0000 - val_loss: 4.5273e-04 - learning_rate: 1.5625e-05\n",
      "Epoch 47/50\n",
      "\n",
      "Epoch 47: val_loss improved from 0.00045 to 0.00045, saving model to best_model_v4.h5\n"
     ]
    },
    {
     "name": "stderr",
     "output_type": "stream",
     "text": [
      "WARNING:absl:You are saving your model as an HDF5 file via `model.save()` or `keras.saving.save_model(model)`. This file format is considered legacy. We recommend using instead the native Keras format, e.g. `model.save('my_model.keras')` or `keras.saving.save_model(model, 'my_model.keras')`. \n"
     ]
    },
    {
     "name": "stdout",
     "output_type": "stream",
     "text": [
      "31/31 - 1s - 20ms/step - accuracy: 0.9959 - loss: 0.0109 - val_accuracy: 1.0000 - val_loss: 4.5257e-04 - learning_rate: 7.8125e-06\n",
      "Epoch 48/50\n",
      "\n",
      "Epoch 48: ReduceLROnPlateau reducing learning rate to 3.906250185536919e-06.\n",
      "\n",
      "Epoch 48: val_loss improved from 0.00045 to 0.00045, saving model to best_model_v4.h5\n"
     ]
    },
    {
     "name": "stderr",
     "output_type": "stream",
     "text": [
      "WARNING:absl:You are saving your model as an HDF5 file via `model.save()` or `keras.saving.save_model(model)`. This file format is considered legacy. We recommend using instead the native Keras format, e.g. `model.save('my_model.keras')` or `keras.saving.save_model(model, 'my_model.keras')`. \n"
     ]
    },
    {
     "name": "stdout",
     "output_type": "stream",
     "text": [
      "31/31 - 1s - 20ms/step - accuracy: 0.9979 - loss: 0.0105 - val_accuracy: 1.0000 - val_loss: 4.5233e-04 - learning_rate: 7.8125e-06\n",
      "Epoch 49/50\n",
      "\n",
      "Epoch 49: val_loss improved from 0.00045 to 0.00045, saving model to best_model_v4.h5\n"
     ]
    },
    {
     "name": "stderr",
     "output_type": "stream",
     "text": [
      "WARNING:absl:You are saving your model as an HDF5 file via `model.save()` or `keras.saving.save_model(model)`. This file format is considered legacy. We recommend using instead the native Keras format, e.g. `model.save('my_model.keras')` or `keras.saving.save_model(model, 'my_model.keras')`. \n"
     ]
    },
    {
     "name": "stdout",
     "output_type": "stream",
     "text": [
      "31/31 - 1s - 21ms/step - accuracy: 0.9969 - loss: 0.0100 - val_accuracy: 1.0000 - val_loss: 4.5152e-04 - learning_rate: 3.9063e-06\n",
      "Epoch 50/50\n",
      "\n",
      "Epoch 50: ReduceLROnPlateau reducing learning rate to 1.9531250927684596e-06.\n",
      "\n",
      "Epoch 50: val_loss improved from 0.00045 to 0.00045, saving model to best_model_v4.h5\n"
     ]
    },
    {
     "name": "stderr",
     "output_type": "stream",
     "text": [
      "WARNING:absl:You are saving your model as an HDF5 file via `model.save()` or `keras.saving.save_model(model)`. This file format is considered legacy. We recommend using instead the native Keras format, e.g. `model.save('my_model.keras')` or `keras.saving.save_model(model, 'my_model.keras')`. \n"
     ]
    },
    {
     "name": "stdout",
     "output_type": "stream",
     "text": [
      "31/31 - 1s - 20ms/step - accuracy: 0.9979 - loss: 0.0100 - val_accuracy: 1.0000 - val_loss: 4.5150e-04 - learning_rate: 3.9063e-06\n",
      "Restoring model weights from the end of the best epoch: 50.\n"
     ]
    }
   ],
   "source": [
    "# Calcular class weights para balancear classes desbalanceadas\n",
    "classes = np.unique(y_train_encoded)\n",
    "class_weights_array = compute_class_weight('balanced', classes=classes, y=y_train_encoded)\n",
    "class_weights = dict(zip(classes, class_weights_array))\n",
    "\n",
    "print(f\"Class weights calculados para {len(class_weights)} classes\")\n",
    "\n",
    "# Definir callbacks\n",
    "early_stopping = EarlyStopping(\n",
    "    monitor='val_loss',\n",
    "    patience=5,\n",
    "    restore_best_weights=True,\n",
    "    verbose=1\n",
    ")\n",
    "\n",
    "reduce_lr = ReduceLROnPlateau(\n",
    "    monitor='val_loss',\n",
    "    factor=0.5,\n",
    "    patience=2,\n",
    "    min_lr=1e-6,\n",
    "    verbose=1\n",
    ")\n",
    "\n",
    "checkpoint = ModelCheckpoint(\n",
    "    'best_model_v4.h5',\n",
    "    monitor='val_loss',\n",
    "    save_best_only=True,\n",
    "    verbose=1\n",
    ")\n",
    "\n",
    "# Treinar o modelo\n",
    "history = model.fit(\n",
    "    X_train_padded,\n",
    "    y_train_encoded,\n",
    "    validation_data=(X_test_padded, y_test_encoded),\n",
    "    epochs=50,\n",
    "    batch_size=32,\n",
    "    callbacks=[early_stopping, reduce_lr, checkpoint],\n",
    "    class_weight=class_weights,\n",
    "    verbose=2\n",
    ")"
   ]
  },
  {
   "cell_type": "markdown",
   "id": "8846be5c",
   "metadata": {},
   "source": [
    "### 8. Avaliação do Modelo"
   ]
  },
  {
   "cell_type": "code",
   "execution_count": 9,
   "id": "dc2770dc",
   "metadata": {},
   "outputs": [
    {
     "name": "stdout",
     "output_type": "stream",
     "text": [
      "\n",
      "Acurácia no conjunto de teste: 1.0000\n"
     ]
    }
   ],
   "source": [
    "loss, accuracy = model.evaluate(X_test_padded, y_test_encoded, verbose=0)\n",
    "print(f\"\\nAcurácia no conjunto de teste: {accuracy:.4f}\")"
   ]
  },
  {
   "cell_type": "markdown",
   "id": "48f1d2e0",
   "metadata": {},
   "source": [
    "### 8.1. Matriz de Confusão\n",
    "\n",
    "Para visualizar o desempenho do modelo em mais detalhes, geramos uma matriz de confusão. Ela mostra quais classes estão sendo confundidas umas com as outras."
   ]
  },
  {
   "cell_type": "code",
   "execution_count": 15,
   "id": "9439f9ed",
   "metadata": {},
   "outputs": [
    {
     "name": "stdout",
     "output_type": "stream",
     "text": [
      "\u001b[1m3/3\u001b[0m \u001b[32m━━━━━━━━━━━━━━━━━━━━\u001b[0m\u001b[37m\u001b[0m \u001b[1m0s\u001b[0m 19ms/step \n",
      "Relatório de Classificação:\n",
      "\n",
      "                                                               precision    recall  f1-score   support\n",
      "\n",
      "                                           Atendimento humano       1.00      1.00      1.00         5\n",
      "                                       Cancelamento de cartão       1.00      1.00      1.00         5\n",
      "Consulta Limite / Vencimento do cartão / Melhor dia de compra       1.00      1.00      1.00         6\n",
      "                                            Consulta do Saldo       1.00      1.00      1.00         6\n",
      "                                        Desbloqueio de Cartão       1.00      1.00      1.00         6\n",
      "                              Esqueceu senha / Troca de senha       1.00      1.00      1.00         6\n",
      "                                          Pagamento de contas       1.00      1.00      1.00         5\n",
      "                                                Perda e roubo       1.00      1.00      1.00         6\n",
      "                                                  Reclamações       1.00      1.00      1.00         6\n",
      "                                        Segunda via de Fatura       1.00      1.00      1.00         6\n",
      "                              Segunda via de boleto de acordo       1.00      1.00      1.00         6\n",
      "                             Solicitação de aumento de limite       1.00      1.00      1.00         6\n",
      "                                  Status de Entrega do Cartão       1.00      1.00      1.00         6\n",
      "                                             Status de cartão       1.00      1.00      1.00         6\n",
      "                                     Telefones de seguradoras       1.00      1.00      1.00         6\n",
      "                                            Token de proposta       1.00      1.00      1.00         6\n",
      "\n",
      "                                                     accuracy                           1.00        93\n",
      "                                                    macro avg       1.00      1.00      1.00        93\n",
      "                                                 weighted avg       1.00      1.00      1.00        93\n",
      "\n"
     ]
    },
    {
     "data": {
      "image/png": "[encoded data removed]",
      "text/plain": [
       "<Figure size 1200x1000 with 2 Axes>"
      ]
     },
     "metadata": {},
     "output_type": "display_data"
    }
   ],
   "source": [
    "# Fazer previsões no conjunto de teste\n",
    "y_pred = model.predict(X_test_padded)\n",
    "y_pred_classes = np.argmax(y_pred, axis=1)\n",
    "\n",
    "# Nomes das classes para os eixos\n",
    "class_names = label_encoder.classes_\n",
    "\n",
    "# Imprimir o relatório de classificação\n",
    "print(\"Relatório de Classificação:\\n\")\n",
    "print(classification_report(y_test_encoded, y_pred_classes, target_names=class_names))\n",
    "\n",
    "# Gerar a matriz de confusão\n",
    "cm = confusion_matrix(y_test_encoded, y_pred_classes)\n",
    "\n",
    "# Plotar a matriz de confusão\n",
    "plt.figure(figsize=(12, 10))\n",
    "sns.heatmap(cm, annot=True, fmt='d', cmap='Blues', xticklabels=class_names, yticklabels=class_names)\n",
    "plt.title('Matriz de Confusão')\n",
    "plt.ylabel('Classe Verdadeira')\n",
    "plt.xlabel('Classe Prevista')\n",
    "plt.show()"
   ]
  },
  {
   "cell_type": "markdown",
   "id": "b486b4a0",
   "metadata": {},
   "source": [
    "### 8.2. Gráficos de Treinamento\n",
    "\n",
    "Para entender melhor o comportamento do modelo durante o treinamento, podemos plotar a acurácia e a perda (loss) ao longo das épocas."
   ]
  },
  {
   "cell_type": "code",
   "execution_count": 16,
   "id": "c4e12903",
   "metadata": {},
   "outputs": [
    {
     "data": {
      "image/png": "[encoded data removed]",
      "text/plain": [
       "<Figure size 1200x400 with 2 Axes>"
      ]
     },
     "metadata": {},
     "output_type": "display_data"
    }
   ],
   "source": [
    "# Plotar o histórico de treinamento\n",
    "plt.figure(figsize=(12, 4))\n",
    "\n",
    "# Gráfico de Acurácia\n",
    "plt.subplot(1, 2, 1)\n",
    "plt.plot(history.history['accuracy'], label='Acurácia de Treino')\n",
    "plt.plot(history.history['val_accuracy'], label='Acurácia de Validação')\n",
    "plt.title('Acurácia ao Longo das Épocas')\n",
    "plt.xlabel('Época')\n",
    "plt.ylabel('Acurácia')\n",
    "plt.legend()\n",
    "\n",
    "# Gráfico de Perda\n",
    "plt.subplot(1, 2, 2)\n",
    "plt.plot(history.history['loss'], label='Perda de Treino')\n",
    "plt.plot(history.history['val_loss'], label='Perda de Validação')\n",
    "plt.title('Perda ao Longo das Épocas')\n",
    "plt.xlabel('Época')\n",
    "plt.ylabel('Perda')\n",
    "plt.legend()\n",
    "\n",
    "plt.show()"
   ]
  },
  {
   "cell_type": "markdown",
   "id": "778d1085",
   "metadata": {},
   "source": [
    "### 9. Função para Predição\n",
    "\n",
    "Criamos uma função auxiliar para encapsular todo o processo de pré-processamento e predição para uma nova frase."
   ]
  },
  {
   "cell_type": "code",
   "execution_count": 17,
   "id": "af2e0c4b",
   "metadata": {},
   "outputs": [],
   "source": [
    "def predict_service(text):\n",
    "    # Pré-processar o texto de entrada\n",
    "    sequence = tokenizer.texts_to_sequences([text])\n",
    "    padded_sequence = pad_sequences(sequence, maxlen=max_length, padding='post', truncating='post')\n",
    "\n",
    "    # Fazer a predição\n",
    "    prediction = model.predict(padded_sequence)\n",
    "    predicted_class_index = np.argmax(prediction)\n",
    "\n",
    "    # Decodificar o resultado para o nome do serviço\n",
    "    predicted_service_name = label_encoder.inverse_transform([predicted_class_index])\n",
    "\n",
    "    return predicted_service_name[0]"
   ]
  },
  {
   "cell_type": "markdown",
   "id": "b5a56431",
   "metadata": {},
   "source": [
    "### 10. Teste do Modelo com Novas Frases"
   ]
  },
  {
   "cell_type": "code",
   "execution_count": 13,
   "id": "6728daa1",
   "metadata": {},
   "outputs": [
    {
     "name": "stderr",
     "output_type": "stream",
     "text": [
      "WARNING:absl:You are saving your model as an HDF5 file via `model.save()` or `keras.saving.save_model(model)`. This file format is considered legacy. We recommend using instead the native Keras format, e.g. `model.save('my_model.keras')` or `keras.saving.save_model(model, 'my_model.keras')`. \n"
     ]
    }
   ],
   "source": [
    "# Save the model\n",
    "model.save('service_intent_model_6.h5')"
   ]
  },
  {
   "cell_type": "markdown",
   "id": "9cc9a57b",
   "metadata": {},
   "source": [
    "### 11. Geração de Dados Sintéticos (Opcional)\n",
    "\n",
    "Para aumentar a robustez do modelo, podemos gerar dados sintéticos. A célula abaixo cria um novo arquivo CSV com 100 exemplos de frases para cada categoria de serviço, totalizando 1600 novas amostras.\n",
    "\n",
    "**Atenção**: Execute esta célula apenas uma vez para criar o arquivo."
   ]
  }
 ],
 "metadata": {
  "kernelspec": {
   "display_name": "venv",
   "language": "python",
   "name": "python3"
  },
  "language_info": {
   "codemirror_mode": {
    "name": "ipython",
    "version": 3
   },
   "file_extension": ".py",
   "mimetype": "text/x-python",
   "name": "python",
   "nbconvert_exporter": "python",
   "pygments_lexer": "ipython3",
   "version": "3.11.14"
  }
 },
 "nbformat": 4,
 "nbformat_minor": 5
}
